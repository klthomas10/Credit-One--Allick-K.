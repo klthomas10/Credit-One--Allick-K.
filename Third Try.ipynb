{
 "cells": [
  {
   "cell_type": "markdown",
   "metadata": {},
   "source": [
    "# Import packages"
   ]
  },
  {
   "cell_type": "code",
   "execution_count": 86,
   "metadata": {},
   "outputs": [],
   "source": [
    "import numpy as np\n",
    "import pandas as pd\n",
    "import matplotlib.pyplot as plt\n",
    "import matplotlib as mlp\n",
    "import seaborn as sns\n",
    "import pandas_profiling\n",
    "\n",
    "\n",
    "#Helpers\n",
    "%matplotlib inline\n",
    "\n",
    "from sqlalchemy import create_engine\n",
    "import pymysql\n",
    "import plotly.graph_objects as go\n",
    "\n",
    "\n",
    "#importing libraries\n",
    "from sklearn.tree import DecisionTreeClassifier, DecisionTreeRegressor\n",
    "from sklearn.metrics import f1_score, r2_score, accuracy_score, precision_score, make_scorer, confusion_matrix, roc_auc_score,roc_curve, recall_score\n",
    "from sklearn.model_selection import learning_curve, train_test_split, cross_validate\n",
    "from sklearn.model_selection import KFold, GridSearchCV\n",
    "from sklearn import metrics\n",
    "from sklearn.ensemble import RandomForestClassifier, BaggingClassifier, AdaBoostClassifier\n",
    "from sklearn.neighbors import KNeighborsClassifier\n",
    "from sklearn.svm import SVC\n",
    "import warnings\n",
    "import itertools\n",
    "from sklearn.feature_selection import SelectKBest, f_classif\n",
    "from sklearn import preprocessing\n",
    "from sklearn.pipeline import make_pipeline, Pipeline\n",
    "warnings.simplefilter(action='ignore', category=(UserWarning,RuntimeWarning))\n",
    "from IPython.display import Image \n",
    "from sklearn.tree import export_graphviz\n",
    "from io import StringIO\n",
    "from six.moves.cPickle import loads\n",
    "from sklearn import svm\n",
    "import graphviz\n",
    "from sklearn.linear_model import LinearRegression, LogisticRegression    \n",
    "from scipy.special import logsumexp\n",
    "from sklearn.preprocessing import RobustScaler\n",
    "    \n",
    "clf=LinearRegression()   #creating LinearRegression Classifier\n",
    "\n",
    "\n",
    "#Float Formatting\n",
    "pd.options.display.float_format = '{:,.2f}'.format"
   ]
  },
  {
   "cell_type": "markdown",
   "metadata": {},
   "source": [
    "## Import Data"
   ]
  },
  {
   "cell_type": "code",
   "execution_count": 2,
   "metadata": {},
   "outputs": [
    {
     "name": "stdout",
     "output_type": "stream",
     "text": [
      "(30000, 26)\n"
     ]
    }
   ],
   "source": [
    "data = pd.read_csv('C:/Users/kltho/Credit_One_Customer_Default.csv')\n",
    "print(data.shape)"
   ]
  },
  {
   "cell_type": "markdown",
   "metadata": {},
   "source": [
    "Variables\n",
    "There are 25 variables:\n",
    "\n",
    "* ID: ID of each client\n",
    "* LIMIT_BAL: Amount of given credit in NT dollars (includes individual and family/supplementary credit\n",
    "* SEX: Gender (1=male, 2=female)\n",
    "* EDUCATION: (1=High School, 2=Others, 3=Graduate School, 4=University, 5=unknown, 6=unknown)\n",
    "* MARRIAGE: Marital status (1=married, 2=single, 3=others)\n",
    "* AGE: Age in years\n",
    "* AGE_BIN: >20, =>30, =>40, =>50, =>60, =>70\n",
    "* PAY_1: Repayment status in September, 2005 (-1=pay duly, 1=payment delay for one month, 2=payment delay for two months, ... 8=payment delay for eight months, 9=payment delay for nine months and above)\n",
    "* PAY_2: Repayment status in August, 2005 (scale same as above)\n",
    "* PAY_3: Repayment status in July, 2005 (scale same as above)\n",
    "* PAY_4: Repayment status in June, 2005 (scale same as above)\n",
    "* PAY_5: Repayment status in May, 2005 (scale same as above)\n",
    "* PAY_6: Repayment status in April, 2005 (scale same as above)\n",
    "* BILL_AMT1: Amount of bill statement in September, 2005 (NT dollar)\n",
    "* BILL_AMT2: Amount of bill statement in August, 2005 (NT dollar)\n",
    "* BILL_AMT3: Amount of bill statement in July, 2005 (NT dollar)\n",
    "* BILL_AMT4: Amount of bill statement in June, 2005 (NT dollar)\n",
    "* BILL_AMT5: Amount of bill statement in May, 2005 (NT dollar)\n",
    "* BILL_AMT6: Amount of bill statement in April, 2005 (NT dollar)\n",
    "* PAY_AMT1: Amount of previous payment in September, 2005 (NT dollar)\n",
    "* PAY_AMT2: Amount of previous payment in August, 2005 (NT dollar)\n",
    "* PAY_AMT3: Amount of previous payment in July, 2005 (NT dollar)\n",
    "* PAY_AMT4: Amount of previous payment in June, 2005 (NT dollar)\n",
    "* PAY_AMT5: Amount of previous payment in May, 2005 (NT dollar)\n",
    "* PAY_AMT6: Amount of previous payment in April, 2005 (NT dollar)\n",
    "* default.payment.next.month: Default payment (1=no, 2=yes)"
   ]
  },
  {
   "cell_type": "markdown",
   "metadata": {},
   "source": [
    "## Evaluate data"
   ]
  },
  {
   "cell_type": "code",
   "execution_count": 3,
   "metadata": {},
   "outputs": [
    {
     "data": {
      "text/plain": [
       "Unnamed: 0                     int64\n",
       "ID                             int64\n",
       "LIMIT_BAL                      int64\n",
       "SEX                           object\n",
       "EDUCATION                     object\n",
       "MARRIAGE                       int64\n",
       "AGE                            int64\n",
       "PAY_0                          int64\n",
       "PAY_2                          int64\n",
       "PAY_3                          int64\n",
       "PAY_4                          int64\n",
       "PAY_5                          int64\n",
       "PAY_6                          int64\n",
       "BILL_AMT1                      int64\n",
       "BILL_AMT2                      int64\n",
       "BILL_AMT3                      int64\n",
       "BILL_AMT4                      int64\n",
       "BILL_AMT5                      int64\n",
       "BILL_AMT6                      int64\n",
       "PAY_AMT1                       int64\n",
       "PAY_AMT2                       int64\n",
       "PAY_AMT3                       int64\n",
       "PAY_AMT4                       int64\n",
       "PAY_AMT5                       int64\n",
       "PAY_AMT6                       int64\n",
       "default payment next month    object\n",
       "dtype: object"
      ]
     },
     "execution_count": 3,
     "metadata": {},
     "output_type": "execute_result"
    }
   ],
   "source": [
    "data.dtypes"
   ]
  },
  {
   "cell_type": "code",
   "execution_count": 4,
   "metadata": {},
   "outputs": [
    {
     "name": "stdout",
     "output_type": "stream",
     "text": [
      "<class 'pandas.core.frame.DataFrame'>\n",
      "RangeIndex: 30000 entries, 0 to 29999\n",
      "Data columns (total 26 columns):\n",
      " #   Column                      Non-Null Count  Dtype \n",
      "---  ------                      --------------  ----- \n",
      " 0   Unnamed: 0                  30000 non-null  int64 \n",
      " 1   ID                          30000 non-null  int64 \n",
      " 2   LIMIT_BAL                   30000 non-null  int64 \n",
      " 3   SEX                         30000 non-null  object\n",
      " 4   EDUCATION                   30000 non-null  object\n",
      " 5   MARRIAGE                    30000 non-null  int64 \n",
      " 6   AGE                         30000 non-null  int64 \n",
      " 7   PAY_0                       30000 non-null  int64 \n",
      " 8   PAY_2                       30000 non-null  int64 \n",
      " 9   PAY_3                       30000 non-null  int64 \n",
      " 10  PAY_4                       30000 non-null  int64 \n",
      " 11  PAY_5                       30000 non-null  int64 \n",
      " 12  PAY_6                       30000 non-null  int64 \n",
      " 13  BILL_AMT1                   30000 non-null  int64 \n",
      " 14  BILL_AMT2                   30000 non-null  int64 \n",
      " 15  BILL_AMT3                   30000 non-null  int64 \n",
      " 16  BILL_AMT4                   30000 non-null  int64 \n",
      " 17  BILL_AMT5                   30000 non-null  int64 \n",
      " 18  BILL_AMT6                   30000 non-null  int64 \n",
      " 19  PAY_AMT1                    30000 non-null  int64 \n",
      " 20  PAY_AMT2                    30000 non-null  int64 \n",
      " 21  PAY_AMT3                    30000 non-null  int64 \n",
      " 22  PAY_AMT4                    30000 non-null  int64 \n",
      " 23  PAY_AMT5                    30000 non-null  int64 \n",
      " 24  PAY_AMT6                    30000 non-null  int64 \n",
      " 25  default payment next month  30000 non-null  object\n",
      "dtypes: int64(23), object(3)\n",
      "memory usage: 6.0+ MB\n"
     ]
    }
   ],
   "source": [
    "data.info()"
   ]
  },
  {
   "cell_type": "code",
   "execution_count": 5,
   "metadata": {},
   "outputs": [
    {
     "data": {
      "text/plain": [
       "default payment next month    0\n",
       "PAY_AMT6                      0\n",
       "ID                            0\n",
       "LIMIT_BAL                     0\n",
       "SEX                           0\n",
       "EDUCATION                     0\n",
       "MARRIAGE                      0\n",
       "AGE                           0\n",
       "PAY_0                         0\n",
       "PAY_2                         0\n",
       "PAY_3                         0\n",
       "PAY_4                         0\n",
       "PAY_5                         0\n",
       "PAY_6                         0\n",
       "BILL_AMT1                     0\n",
       "BILL_AMT2                     0\n",
       "BILL_AMT3                     0\n",
       "BILL_AMT4                     0\n",
       "BILL_AMT5                     0\n",
       "BILL_AMT6                     0\n",
       "PAY_AMT1                      0\n",
       "PAY_AMT2                      0\n",
       "PAY_AMT3                      0\n",
       "PAY_AMT4                      0\n",
       "PAY_AMT5                      0\n",
       "Unnamed: 0                    0\n",
       "dtype: int64"
      ]
     },
     "execution_count": 5,
     "metadata": {},
     "output_type": "execute_result"
    }
   ],
   "source": [
    "data.isnull().sum().sort_values(ascending=False)"
   ]
  },
  {
   "cell_type": "code",
   "execution_count": 6,
   "metadata": {},
   "outputs": [
    {
     "data": {
      "text/html": [
       "<div>\n",
       "<style scoped>\n",
       "    .dataframe tbody tr th:only-of-type {\n",
       "        vertical-align: middle;\n",
       "    }\n",
       "\n",
       "    .dataframe tbody tr th {\n",
       "        vertical-align: top;\n",
       "    }\n",
       "\n",
       "    .dataframe thead th {\n",
       "        text-align: right;\n",
       "    }\n",
       "</style>\n",
       "<table border=\"1\" class=\"dataframe\">\n",
       "  <thead>\n",
       "    <tr style=\"text-align: right;\">\n",
       "      <th></th>\n",
       "      <th>Unnamed: 0</th>\n",
       "      <th>ID</th>\n",
       "      <th>LIMIT_BAL</th>\n",
       "      <th>SEX</th>\n",
       "      <th>EDUCATION</th>\n",
       "      <th>MARRIAGE</th>\n",
       "      <th>AGE</th>\n",
       "      <th>PAY_0</th>\n",
       "      <th>PAY_2</th>\n",
       "      <th>PAY_3</th>\n",
       "      <th>...</th>\n",
       "      <th>BILL_AMT4</th>\n",
       "      <th>BILL_AMT5</th>\n",
       "      <th>BILL_AMT6</th>\n",
       "      <th>PAY_AMT1</th>\n",
       "      <th>PAY_AMT2</th>\n",
       "      <th>PAY_AMT3</th>\n",
       "      <th>PAY_AMT4</th>\n",
       "      <th>PAY_AMT5</th>\n",
       "      <th>PAY_AMT6</th>\n",
       "      <th>default payment next month</th>\n",
       "    </tr>\n",
       "  </thead>\n",
       "  <tbody>\n",
       "    <tr>\n",
       "      <th>0</th>\n",
       "      <td>1</td>\n",
       "      <td>1</td>\n",
       "      <td>20000</td>\n",
       "      <td>female</td>\n",
       "      <td>university</td>\n",
       "      <td>1</td>\n",
       "      <td>24</td>\n",
       "      <td>2</td>\n",
       "      <td>2</td>\n",
       "      <td>-1</td>\n",
       "      <td>...</td>\n",
       "      <td>0</td>\n",
       "      <td>0</td>\n",
       "      <td>0</td>\n",
       "      <td>0</td>\n",
       "      <td>689</td>\n",
       "      <td>0</td>\n",
       "      <td>0</td>\n",
       "      <td>0</td>\n",
       "      <td>0</td>\n",
       "      <td>default</td>\n",
       "    </tr>\n",
       "    <tr>\n",
       "      <th>1</th>\n",
       "      <td>2</td>\n",
       "      <td>2</td>\n",
       "      <td>120000</td>\n",
       "      <td>female</td>\n",
       "      <td>university</td>\n",
       "      <td>2</td>\n",
       "      <td>26</td>\n",
       "      <td>-1</td>\n",
       "      <td>2</td>\n",
       "      <td>0</td>\n",
       "      <td>...</td>\n",
       "      <td>3272</td>\n",
       "      <td>3455</td>\n",
       "      <td>3261</td>\n",
       "      <td>0</td>\n",
       "      <td>1000</td>\n",
       "      <td>1000</td>\n",
       "      <td>1000</td>\n",
       "      <td>0</td>\n",
       "      <td>2000</td>\n",
       "      <td>default</td>\n",
       "    </tr>\n",
       "    <tr>\n",
       "      <th>2</th>\n",
       "      <td>3</td>\n",
       "      <td>3</td>\n",
       "      <td>90000</td>\n",
       "      <td>female</td>\n",
       "      <td>university</td>\n",
       "      <td>2</td>\n",
       "      <td>34</td>\n",
       "      <td>0</td>\n",
       "      <td>0</td>\n",
       "      <td>0</td>\n",
       "      <td>...</td>\n",
       "      <td>14331</td>\n",
       "      <td>14948</td>\n",
       "      <td>15549</td>\n",
       "      <td>1518</td>\n",
       "      <td>1500</td>\n",
       "      <td>1000</td>\n",
       "      <td>1000</td>\n",
       "      <td>1000</td>\n",
       "      <td>5000</td>\n",
       "      <td>not default</td>\n",
       "    </tr>\n",
       "    <tr>\n",
       "      <th>3</th>\n",
       "      <td>4</td>\n",
       "      <td>4</td>\n",
       "      <td>50000</td>\n",
       "      <td>female</td>\n",
       "      <td>university</td>\n",
       "      <td>1</td>\n",
       "      <td>37</td>\n",
       "      <td>0</td>\n",
       "      <td>0</td>\n",
       "      <td>0</td>\n",
       "      <td>...</td>\n",
       "      <td>28314</td>\n",
       "      <td>28959</td>\n",
       "      <td>29547</td>\n",
       "      <td>2000</td>\n",
       "      <td>2019</td>\n",
       "      <td>1200</td>\n",
       "      <td>1100</td>\n",
       "      <td>1069</td>\n",
       "      <td>1000</td>\n",
       "      <td>not default</td>\n",
       "    </tr>\n",
       "    <tr>\n",
       "      <th>4</th>\n",
       "      <td>5</td>\n",
       "      <td>5</td>\n",
       "      <td>50000</td>\n",
       "      <td>male</td>\n",
       "      <td>university</td>\n",
       "      <td>1</td>\n",
       "      <td>57</td>\n",
       "      <td>-1</td>\n",
       "      <td>0</td>\n",
       "      <td>-1</td>\n",
       "      <td>...</td>\n",
       "      <td>20940</td>\n",
       "      <td>19146</td>\n",
       "      <td>19131</td>\n",
       "      <td>2000</td>\n",
       "      <td>36681</td>\n",
       "      <td>10000</td>\n",
       "      <td>9000</td>\n",
       "      <td>689</td>\n",
       "      <td>679</td>\n",
       "      <td>not default</td>\n",
       "    </tr>\n",
       "  </tbody>\n",
       "</table>\n",
       "<p>5 rows × 26 columns</p>\n",
       "</div>"
      ],
      "text/plain": [
       "   Unnamed: 0  ID  LIMIT_BAL     SEX   EDUCATION  MARRIAGE  AGE  PAY_0  PAY_2  \\\n",
       "0           1   1      20000  female  university         1   24      2      2   \n",
       "1           2   2     120000  female  university         2   26     -1      2   \n",
       "2           3   3      90000  female  university         2   34      0      0   \n",
       "3           4   4      50000  female  university         1   37      0      0   \n",
       "4           5   5      50000    male  university         1   57     -1      0   \n",
       "\n",
       "   PAY_3  ...  BILL_AMT4  BILL_AMT5  BILL_AMT6  PAY_AMT1  PAY_AMT2  PAY_AMT3  \\\n",
       "0     -1  ...          0          0          0         0       689         0   \n",
       "1      0  ...       3272       3455       3261         0      1000      1000   \n",
       "2      0  ...      14331      14948      15549      1518      1500      1000   \n",
       "3      0  ...      28314      28959      29547      2000      2019      1200   \n",
       "4     -1  ...      20940      19146      19131      2000     36681     10000   \n",
       "\n",
       "   PAY_AMT4  PAY_AMT5  PAY_AMT6  default payment next month  \n",
       "0         0         0         0                     default  \n",
       "1      1000         0      2000                     default  \n",
       "2      1000      1000      5000                 not default  \n",
       "3      1100      1069      1000                 not default  \n",
       "4      9000       689       679                 not default  \n",
       "\n",
       "[5 rows x 26 columns]"
      ]
     },
     "execution_count": 6,
     "metadata": {},
     "output_type": "execute_result"
    }
   ],
   "source": [
    "data.head()"
   ]
  },
  {
   "cell_type": "code",
   "execution_count": 7,
   "metadata": {},
   "outputs": [
    {
     "name": "stdout",
     "output_type": "stream",
     "text": [
      "Summary of feature sample\n"
     ]
    },
    {
     "data": {
      "text/html": [
       "<div>\n",
       "<style scoped>\n",
       "    .dataframe tbody tr th:only-of-type {\n",
       "        vertical-align: middle;\n",
       "    }\n",
       "\n",
       "    .dataframe tbody tr th {\n",
       "        vertical-align: top;\n",
       "    }\n",
       "\n",
       "    .dataframe thead th {\n",
       "        text-align: right;\n",
       "    }\n",
       "</style>\n",
       "<table border=\"1\" class=\"dataframe\">\n",
       "  <thead>\n",
       "    <tr style=\"text-align: right;\">\n",
       "      <th></th>\n",
       "      <th>LIMIT_BAL</th>\n",
       "      <th>SEX</th>\n",
       "      <th>EDUCATION</th>\n",
       "      <th>MARRIAGE</th>\n",
       "      <th>AGE</th>\n",
       "      <th>PAY_0</th>\n",
       "      <th>PAY_2</th>\n",
       "      <th>PAY_3</th>\n",
       "      <th>PAY_4</th>\n",
       "      <th>PAY_5</th>\n",
       "      <th>...</th>\n",
       "      <th>BILL_AMT4</th>\n",
       "      <th>BILL_AMT5</th>\n",
       "      <th>BILL_AMT6</th>\n",
       "      <th>PAY_AMT1</th>\n",
       "      <th>PAY_AMT2</th>\n",
       "      <th>PAY_AMT3</th>\n",
       "      <th>PAY_AMT4</th>\n",
       "      <th>PAY_AMT5</th>\n",
       "      <th>PAY_AMT6</th>\n",
       "      <th>default payment next month</th>\n",
       "    </tr>\n",
       "  </thead>\n",
       "  <tbody>\n",
       "    <tr>\n",
       "      <th>0</th>\n",
       "      <td>20000</td>\n",
       "      <td>female</td>\n",
       "      <td>university</td>\n",
       "      <td>1</td>\n",
       "      <td>24</td>\n",
       "      <td>2</td>\n",
       "      <td>2</td>\n",
       "      <td>-1</td>\n",
       "      <td>-1</td>\n",
       "      <td>-2</td>\n",
       "      <td>...</td>\n",
       "      <td>0</td>\n",
       "      <td>0</td>\n",
       "      <td>0</td>\n",
       "      <td>0</td>\n",
       "      <td>689</td>\n",
       "      <td>0</td>\n",
       "      <td>0</td>\n",
       "      <td>0</td>\n",
       "      <td>0</td>\n",
       "      <td>default</td>\n",
       "    </tr>\n",
       "    <tr>\n",
       "      <th>1</th>\n",
       "      <td>120000</td>\n",
       "      <td>female</td>\n",
       "      <td>university</td>\n",
       "      <td>2</td>\n",
       "      <td>26</td>\n",
       "      <td>-1</td>\n",
       "      <td>2</td>\n",
       "      <td>0</td>\n",
       "      <td>0</td>\n",
       "      <td>0</td>\n",
       "      <td>...</td>\n",
       "      <td>3272</td>\n",
       "      <td>3455</td>\n",
       "      <td>3261</td>\n",
       "      <td>0</td>\n",
       "      <td>1000</td>\n",
       "      <td>1000</td>\n",
       "      <td>1000</td>\n",
       "      <td>0</td>\n",
       "      <td>2000</td>\n",
       "      <td>default</td>\n",
       "    </tr>\n",
       "    <tr>\n",
       "      <th>2</th>\n",
       "      <td>90000</td>\n",
       "      <td>female</td>\n",
       "      <td>university</td>\n",
       "      <td>2</td>\n",
       "      <td>34</td>\n",
       "      <td>0</td>\n",
       "      <td>0</td>\n",
       "      <td>0</td>\n",
       "      <td>0</td>\n",
       "      <td>0</td>\n",
       "      <td>...</td>\n",
       "      <td>14331</td>\n",
       "      <td>14948</td>\n",
       "      <td>15549</td>\n",
       "      <td>1518</td>\n",
       "      <td>1500</td>\n",
       "      <td>1000</td>\n",
       "      <td>1000</td>\n",
       "      <td>1000</td>\n",
       "      <td>5000</td>\n",
       "      <td>not default</td>\n",
       "    </tr>\n",
       "    <tr>\n",
       "      <th>3</th>\n",
       "      <td>50000</td>\n",
       "      <td>female</td>\n",
       "      <td>university</td>\n",
       "      <td>1</td>\n",
       "      <td>37</td>\n",
       "      <td>0</td>\n",
       "      <td>0</td>\n",
       "      <td>0</td>\n",
       "      <td>0</td>\n",
       "      <td>0</td>\n",
       "      <td>...</td>\n",
       "      <td>28314</td>\n",
       "      <td>28959</td>\n",
       "      <td>29547</td>\n",
       "      <td>2000</td>\n",
       "      <td>2019</td>\n",
       "      <td>1200</td>\n",
       "      <td>1100</td>\n",
       "      <td>1069</td>\n",
       "      <td>1000</td>\n",
       "      <td>not default</td>\n",
       "    </tr>\n",
       "    <tr>\n",
       "      <th>4</th>\n",
       "      <td>50000</td>\n",
       "      <td>male</td>\n",
       "      <td>university</td>\n",
       "      <td>1</td>\n",
       "      <td>57</td>\n",
       "      <td>-1</td>\n",
       "      <td>0</td>\n",
       "      <td>-1</td>\n",
       "      <td>0</td>\n",
       "      <td>0</td>\n",
       "      <td>...</td>\n",
       "      <td>20940</td>\n",
       "      <td>19146</td>\n",
       "      <td>19131</td>\n",
       "      <td>2000</td>\n",
       "      <td>36681</td>\n",
       "      <td>10000</td>\n",
       "      <td>9000</td>\n",
       "      <td>689</td>\n",
       "      <td>679</td>\n",
       "      <td>not default</td>\n",
       "    </tr>\n",
       "  </tbody>\n",
       "</table>\n",
       "<p>5 rows × 24 columns</p>\n",
       "</div>"
      ],
      "text/plain": [
       "   LIMIT_BAL     SEX   EDUCATION  MARRIAGE  AGE  PAY_0  PAY_2  PAY_3  PAY_4  \\\n",
       "0      20000  female  university         1   24      2      2     -1     -1   \n",
       "1     120000  female  university         2   26     -1      2      0      0   \n",
       "2      90000  female  university         2   34      0      0      0      0   \n",
       "3      50000  female  university         1   37      0      0      0      0   \n",
       "4      50000    male  university         1   57     -1      0     -1      0   \n",
       "\n",
       "   PAY_5  ...  BILL_AMT4  BILL_AMT5  BILL_AMT6  PAY_AMT1  PAY_AMT2  PAY_AMT3  \\\n",
       "0     -2  ...          0          0          0         0       689         0   \n",
       "1      0  ...       3272       3455       3261         0      1000      1000   \n",
       "2      0  ...      14331      14948      15549      1518      1500      1000   \n",
       "3      0  ...      28314      28959      29547      2000      2019      1200   \n",
       "4      0  ...      20940      19146      19131      2000     36681     10000   \n",
       "\n",
       "   PAY_AMT4  PAY_AMT5  PAY_AMT6  default payment next month  \n",
       "0         0         0         0                     default  \n",
       "1      1000         0      2000                     default  \n",
       "2      1000      1000      5000                 not default  \n",
       "3      1100      1069      1000                 not default  \n",
       "4      9000       689       679                 not default  \n",
       "\n",
       "[5 rows x 24 columns]"
      ]
     },
     "execution_count": 7,
     "metadata": {},
     "output_type": "execute_result"
    }
   ],
   "source": [
    "#features\n",
    "data = data.iloc[:, 2:]\n",
    "print('Summary of feature sample')\n",
    "data.head()"
   ]
  },
  {
   "cell_type": "code",
   "execution_count": 8,
   "metadata": {},
   "outputs": [],
   "source": [
    "data = data.replace([' ','?'], np.nan)"
   ]
  },
  {
   "cell_type": "markdown",
   "metadata": {},
   "source": [
    "## EDA\n",
    "### Statistical Analysis"
   ]
  },
  {
   "cell_type": "code",
   "execution_count": 9,
   "metadata": {},
   "outputs": [],
   "source": [
    "#Convert dtypes from 'object' to 'category'\n",
    "data['SEX'] = data['SEX'].astype('category')\n",
    "data['EDUCATION'] = data['EDUCATION'].astype('category')\n",
    "data['default payment next month'] = data['default payment next month'].astype('category')"
   ]
  },
  {
   "cell_type": "code",
   "execution_count": 10,
   "metadata": {},
   "outputs": [],
   "source": [
    "#Then change from categorical to numerical datatypes and store in a different column\n",
    "data = data.assign(SEX_ID = data['SEX'].cat.codes)\n",
    "data = data.assign(EDUCATION_ID = data['EDUCATION'].cat.codes)\n",
    "data = data.assign(def_pay = data['default payment next month'].cat.codes)"
   ]
  },
  {
   "cell_type": "code",
   "execution_count": 11,
   "metadata": {},
   "outputs": [
    {
     "data": {
      "text/html": [
       "<div>\n",
       "<style scoped>\n",
       "    .dataframe tbody tr th:only-of-type {\n",
       "        vertical-align: middle;\n",
       "    }\n",
       "\n",
       "    .dataframe tbody tr th {\n",
       "        vertical-align: top;\n",
       "    }\n",
       "\n",
       "    .dataframe thead th {\n",
       "        text-align: right;\n",
       "    }\n",
       "</style>\n",
       "<table border=\"1\" class=\"dataframe\">\n",
       "  <thead>\n",
       "    <tr style=\"text-align: right;\">\n",
       "      <th></th>\n",
       "      <th>SEX_ID</th>\n",
       "      <th>EDUCATION_ID</th>\n",
       "      <th>MARRIAGE</th>\n",
       "      <th>def_pay</th>\n",
       "    </tr>\n",
       "  </thead>\n",
       "  <tbody>\n",
       "    <tr>\n",
       "      <th>count</th>\n",
       "      <td>30,000.00</td>\n",
       "      <td>30,000.00</td>\n",
       "      <td>30,000.00</td>\n",
       "      <td>30,000.00</td>\n",
       "    </tr>\n",
       "    <tr>\n",
       "      <th>mean</th>\n",
       "      <td>0.40</td>\n",
       "      <td>1.60</td>\n",
       "      <td>1.55</td>\n",
       "      <td>0.78</td>\n",
       "    </tr>\n",
       "    <tr>\n",
       "      <th>std</th>\n",
       "      <td>0.49</td>\n",
       "      <td>1.37</td>\n",
       "      <td>0.52</td>\n",
       "      <td>0.42</td>\n",
       "    </tr>\n",
       "    <tr>\n",
       "      <th>min</th>\n",
       "      <td>0.00</td>\n",
       "      <td>0.00</td>\n",
       "      <td>0.00</td>\n",
       "      <td>0.00</td>\n",
       "    </tr>\n",
       "    <tr>\n",
       "      <th>25%</th>\n",
       "      <td>0.00</td>\n",
       "      <td>0.00</td>\n",
       "      <td>1.00</td>\n",
       "      <td>1.00</td>\n",
       "    </tr>\n",
       "    <tr>\n",
       "      <th>50%</th>\n",
       "      <td>0.00</td>\n",
       "      <td>1.00</td>\n",
       "      <td>2.00</td>\n",
       "      <td>1.00</td>\n",
       "    </tr>\n",
       "    <tr>\n",
       "      <th>75%</th>\n",
       "      <td>1.00</td>\n",
       "      <td>3.00</td>\n",
       "      <td>2.00</td>\n",
       "      <td>1.00</td>\n",
       "    </tr>\n",
       "    <tr>\n",
       "      <th>max</th>\n",
       "      <td>1.00</td>\n",
       "      <td>3.00</td>\n",
       "      <td>3.00</td>\n",
       "      <td>1.00</td>\n",
       "    </tr>\n",
       "  </tbody>\n",
       "</table>\n",
       "</div>"
      ],
      "text/plain": [
       "         SEX_ID  EDUCATION_ID  MARRIAGE   def_pay\n",
       "count 30,000.00     30,000.00 30,000.00 30,000.00\n",
       "mean       0.40          1.60      1.55      0.78\n",
       "std        0.49          1.37      0.52      0.42\n",
       "min        0.00          0.00      0.00      0.00\n",
       "25%        0.00          0.00      1.00      1.00\n",
       "50%        0.00          1.00      2.00      1.00\n",
       "75%        1.00          3.00      2.00      1.00\n",
       "max        1.00          3.00      3.00      1.00"
      ]
     },
     "execution_count": 11,
     "metadata": {},
     "output_type": "execute_result"
    }
   ],
   "source": [
    "# Categorical variables description\n",
    "data[['SEX_ID', 'EDUCATION_ID', 'MARRIAGE', 'def_pay']].describe()"
   ]
  },
  {
   "cell_type": "code",
   "execution_count": 12,
   "metadata": {},
   "outputs": [
    {
     "data": {
      "text/html": [
       "<div>\n",
       "<style scoped>\n",
       "    .dataframe tbody tr th:only-of-type {\n",
       "        vertical-align: middle;\n",
       "    }\n",
       "\n",
       "    .dataframe tbody tr th {\n",
       "        vertical-align: top;\n",
       "    }\n",
       "\n",
       "    .dataframe thead th {\n",
       "        text-align: right;\n",
       "    }\n",
       "</style>\n",
       "<table border=\"1\" class=\"dataframe\">\n",
       "  <thead>\n",
       "    <tr style=\"text-align: right;\">\n",
       "      <th></th>\n",
       "      <th>BILL_AMT1</th>\n",
       "      <th>BILL_AMT2</th>\n",
       "      <th>BILL_AMT3</th>\n",
       "      <th>BILL_AMT4</th>\n",
       "      <th>BILL_AMT5</th>\n",
       "      <th>BILL_AMT6</th>\n",
       "    </tr>\n",
       "  </thead>\n",
       "  <tbody>\n",
       "    <tr>\n",
       "      <th>count</th>\n",
       "      <td>30,000.00</td>\n",
       "      <td>30,000.00</td>\n",
       "      <td>30,000.00</td>\n",
       "      <td>30,000.00</td>\n",
       "      <td>30,000.00</td>\n",
       "      <td>30,000.00</td>\n",
       "    </tr>\n",
       "    <tr>\n",
       "      <th>mean</th>\n",
       "      <td>51,223.33</td>\n",
       "      <td>49,179.08</td>\n",
       "      <td>47,013.15</td>\n",
       "      <td>43,262.95</td>\n",
       "      <td>40,311.40</td>\n",
       "      <td>38,871.76</td>\n",
       "    </tr>\n",
       "    <tr>\n",
       "      <th>std</th>\n",
       "      <td>73,635.86</td>\n",
       "      <td>71,173.77</td>\n",
       "      <td>69,349.39</td>\n",
       "      <td>64,332.86</td>\n",
       "      <td>60,797.16</td>\n",
       "      <td>59,554.11</td>\n",
       "    </tr>\n",
       "    <tr>\n",
       "      <th>min</th>\n",
       "      <td>-165,580.00</td>\n",
       "      <td>-69,777.00</td>\n",
       "      <td>-157,264.00</td>\n",
       "      <td>-170,000.00</td>\n",
       "      <td>-81,334.00</td>\n",
       "      <td>-339,603.00</td>\n",
       "    </tr>\n",
       "    <tr>\n",
       "      <th>25%</th>\n",
       "      <td>3,558.75</td>\n",
       "      <td>2,984.75</td>\n",
       "      <td>2,666.25</td>\n",
       "      <td>2,326.75</td>\n",
       "      <td>1,763.00</td>\n",
       "      <td>1,256.00</td>\n",
       "    </tr>\n",
       "    <tr>\n",
       "      <th>50%</th>\n",
       "      <td>22,381.50</td>\n",
       "      <td>21,200.00</td>\n",
       "      <td>20,088.50</td>\n",
       "      <td>19,052.00</td>\n",
       "      <td>18,104.50</td>\n",
       "      <td>17,071.00</td>\n",
       "    </tr>\n",
       "    <tr>\n",
       "      <th>75%</th>\n",
       "      <td>67,091.00</td>\n",
       "      <td>64,006.25</td>\n",
       "      <td>60,164.75</td>\n",
       "      <td>54,506.00</td>\n",
       "      <td>50,190.50</td>\n",
       "      <td>49,198.25</td>\n",
       "    </tr>\n",
       "    <tr>\n",
       "      <th>max</th>\n",
       "      <td>964,511.00</td>\n",
       "      <td>983,931.00</td>\n",
       "      <td>1,664,089.00</td>\n",
       "      <td>891,586.00</td>\n",
       "      <td>927,171.00</td>\n",
       "      <td>961,664.00</td>\n",
       "    </tr>\n",
       "  </tbody>\n",
       "</table>\n",
       "</div>"
      ],
      "text/plain": [
       "        BILL_AMT1  BILL_AMT2    BILL_AMT3   BILL_AMT4  BILL_AMT5   BILL_AMT6\n",
       "count   30,000.00  30,000.00    30,000.00   30,000.00  30,000.00   30,000.00\n",
       "mean    51,223.33  49,179.08    47,013.15   43,262.95  40,311.40   38,871.76\n",
       "std     73,635.86  71,173.77    69,349.39   64,332.86  60,797.16   59,554.11\n",
       "min   -165,580.00 -69,777.00  -157,264.00 -170,000.00 -81,334.00 -339,603.00\n",
       "25%      3,558.75   2,984.75     2,666.25    2,326.75   1,763.00    1,256.00\n",
       "50%     22,381.50  21,200.00    20,088.50   19,052.00  18,104.50   17,071.00\n",
       "75%     67,091.00  64,006.25    60,164.75   54,506.00  50,190.50   49,198.25\n",
       "max    964,511.00 983,931.00 1,664,089.00  891,586.00 927,171.00  961,664.00"
      ]
     },
     "execution_count": 12,
     "metadata": {},
     "output_type": "execute_result"
    }
   ],
   "source": [
    "# Bill Statement statistics\n",
    "data[['BILL_AMT1', 'BILL_AMT2', 'BILL_AMT3', 'BILL_AMT4', 'BILL_AMT5', 'BILL_AMT6']].describe()"
   ]
  },
  {
   "cell_type": "markdown",
   "metadata": {},
   "source": [
    "What do negative amounts mean? Credit to account? Will need to look at closer."
   ]
  },
  {
   "cell_type": "code",
   "execution_count": 13,
   "metadata": {},
   "outputs": [
    {
     "data": {
      "text/html": [
       "<div>\n",
       "<style scoped>\n",
       "    .dataframe tbody tr th:only-of-type {\n",
       "        vertical-align: middle;\n",
       "    }\n",
       "\n",
       "    .dataframe tbody tr th {\n",
       "        vertical-align: top;\n",
       "    }\n",
       "\n",
       "    .dataframe thead th {\n",
       "        text-align: right;\n",
       "    }\n",
       "</style>\n",
       "<table border=\"1\" class=\"dataframe\">\n",
       "  <thead>\n",
       "    <tr style=\"text-align: right;\">\n",
       "      <th></th>\n",
       "      <th>PAY_AMT1</th>\n",
       "      <th>PAY_AMT2</th>\n",
       "      <th>PAY_AMT3</th>\n",
       "      <th>PAY_AMT4</th>\n",
       "      <th>PAY_AMT5</th>\n",
       "      <th>PAY_AMT6</th>\n",
       "    </tr>\n",
       "  </thead>\n",
       "  <tbody>\n",
       "    <tr>\n",
       "      <th>count</th>\n",
       "      <td>30,000.00</td>\n",
       "      <td>30,000.00</td>\n",
       "      <td>30,000.00</td>\n",
       "      <td>30,000.00</td>\n",
       "      <td>30,000.00</td>\n",
       "      <td>30,000.00</td>\n",
       "    </tr>\n",
       "    <tr>\n",
       "      <th>mean</th>\n",
       "      <td>5,663.58</td>\n",
       "      <td>5,921.16</td>\n",
       "      <td>5,225.68</td>\n",
       "      <td>4,826.08</td>\n",
       "      <td>4,799.39</td>\n",
       "      <td>5,215.50</td>\n",
       "    </tr>\n",
       "    <tr>\n",
       "      <th>std</th>\n",
       "      <td>16,563.28</td>\n",
       "      <td>23,040.87</td>\n",
       "      <td>17,606.96</td>\n",
       "      <td>15,666.16</td>\n",
       "      <td>15,278.31</td>\n",
       "      <td>17,777.47</td>\n",
       "    </tr>\n",
       "    <tr>\n",
       "      <th>min</th>\n",
       "      <td>0.00</td>\n",
       "      <td>0.00</td>\n",
       "      <td>0.00</td>\n",
       "      <td>0.00</td>\n",
       "      <td>0.00</td>\n",
       "      <td>0.00</td>\n",
       "    </tr>\n",
       "    <tr>\n",
       "      <th>25%</th>\n",
       "      <td>1,000.00</td>\n",
       "      <td>833.00</td>\n",
       "      <td>390.00</td>\n",
       "      <td>296.00</td>\n",
       "      <td>252.50</td>\n",
       "      <td>117.75</td>\n",
       "    </tr>\n",
       "    <tr>\n",
       "      <th>50%</th>\n",
       "      <td>2,100.00</td>\n",
       "      <td>2,009.00</td>\n",
       "      <td>1,800.00</td>\n",
       "      <td>1,500.00</td>\n",
       "      <td>1,500.00</td>\n",
       "      <td>1,500.00</td>\n",
       "    </tr>\n",
       "    <tr>\n",
       "      <th>75%</th>\n",
       "      <td>5,006.00</td>\n",
       "      <td>5,000.00</td>\n",
       "      <td>4,505.00</td>\n",
       "      <td>4,013.25</td>\n",
       "      <td>4,031.50</td>\n",
       "      <td>4,000.00</td>\n",
       "    </tr>\n",
       "    <tr>\n",
       "      <th>max</th>\n",
       "      <td>873,552.00</td>\n",
       "      <td>1,684,259.00</td>\n",
       "      <td>896,040.00</td>\n",
       "      <td>621,000.00</td>\n",
       "      <td>426,529.00</td>\n",
       "      <td>528,666.00</td>\n",
       "    </tr>\n",
       "  </tbody>\n",
       "</table>\n",
       "</div>"
      ],
      "text/plain": [
       "        PAY_AMT1     PAY_AMT2   PAY_AMT3   PAY_AMT4   PAY_AMT5   PAY_AMT6\n",
       "count  30,000.00    30,000.00  30,000.00  30,000.00  30,000.00  30,000.00\n",
       "mean    5,663.58     5,921.16   5,225.68   4,826.08   4,799.39   5,215.50\n",
       "std    16,563.28    23,040.87  17,606.96  15,666.16  15,278.31  17,777.47\n",
       "min         0.00         0.00       0.00       0.00       0.00       0.00\n",
       "25%     1,000.00       833.00     390.00     296.00     252.50     117.75\n",
       "50%     2,100.00     2,009.00   1,800.00   1,500.00   1,500.00   1,500.00\n",
       "75%     5,006.00     5,000.00   4,505.00   4,013.25   4,031.50   4,000.00\n",
       "max   873,552.00 1,684,259.00 896,040.00 621,000.00 426,529.00 528,666.00"
      ]
     },
     "execution_count": 13,
     "metadata": {},
     "output_type": "execute_result"
    }
   ],
   "source": [
    "#Previous Payment Description\n",
    "data[['PAY_AMT1', 'PAY_AMT2', 'PAY_AMT3', 'PAY_AMT4', 'PAY_AMT5', 'PAY_AMT6']].describe()"
   ]
  },
  {
   "cell_type": "markdown",
   "metadata": {},
   "source": [
    "Payment Status Details PAY_0: Repayment status in September, 2005 (-1=pay duly, 1=payment delay for one month, 2=payment delay for two months, ... 8=payment delay for eight months, 9=payment delay for nine months and above)"
   ]
  },
  {
   "cell_type": "code",
   "execution_count": 14,
   "metadata": {},
   "outputs": [
    {
     "data": {
      "text/html": [
       "<div>\n",
       "<style scoped>\n",
       "    .dataframe tbody tr th:only-of-type {\n",
       "        vertical-align: middle;\n",
       "    }\n",
       "\n",
       "    .dataframe tbody tr th {\n",
       "        vertical-align: top;\n",
       "    }\n",
       "\n",
       "    .dataframe thead th {\n",
       "        text-align: right;\n",
       "    }\n",
       "</style>\n",
       "<table border=\"1\" class=\"dataframe\">\n",
       "  <thead>\n",
       "    <tr style=\"text-align: right;\">\n",
       "      <th></th>\n",
       "      <th>PAY_0</th>\n",
       "      <th>PAY_2</th>\n",
       "      <th>PAY_3</th>\n",
       "      <th>PAY_4</th>\n",
       "      <th>PAY_5</th>\n",
       "      <th>PAY_6</th>\n",
       "    </tr>\n",
       "  </thead>\n",
       "  <tbody>\n",
       "    <tr>\n",
       "      <th>count</th>\n",
       "      <td>30,000.00</td>\n",
       "      <td>30,000.00</td>\n",
       "      <td>30,000.00</td>\n",
       "      <td>30,000.00</td>\n",
       "      <td>30,000.00</td>\n",
       "      <td>30,000.00</td>\n",
       "    </tr>\n",
       "    <tr>\n",
       "      <th>mean</th>\n",
       "      <td>-0.02</td>\n",
       "      <td>-0.13</td>\n",
       "      <td>-0.17</td>\n",
       "      <td>-0.22</td>\n",
       "      <td>-0.27</td>\n",
       "      <td>-0.29</td>\n",
       "    </tr>\n",
       "    <tr>\n",
       "      <th>std</th>\n",
       "      <td>1.12</td>\n",
       "      <td>1.20</td>\n",
       "      <td>1.20</td>\n",
       "      <td>1.17</td>\n",
       "      <td>1.13</td>\n",
       "      <td>1.15</td>\n",
       "    </tr>\n",
       "    <tr>\n",
       "      <th>min</th>\n",
       "      <td>-2.00</td>\n",
       "      <td>-2.00</td>\n",
       "      <td>-2.00</td>\n",
       "      <td>-2.00</td>\n",
       "      <td>-2.00</td>\n",
       "      <td>-2.00</td>\n",
       "    </tr>\n",
       "    <tr>\n",
       "      <th>25%</th>\n",
       "      <td>-1.00</td>\n",
       "      <td>-1.00</td>\n",
       "      <td>-1.00</td>\n",
       "      <td>-1.00</td>\n",
       "      <td>-1.00</td>\n",
       "      <td>-1.00</td>\n",
       "    </tr>\n",
       "    <tr>\n",
       "      <th>50%</th>\n",
       "      <td>0.00</td>\n",
       "      <td>0.00</td>\n",
       "      <td>0.00</td>\n",
       "      <td>0.00</td>\n",
       "      <td>0.00</td>\n",
       "      <td>0.00</td>\n",
       "    </tr>\n",
       "    <tr>\n",
       "      <th>75%</th>\n",
       "      <td>0.00</td>\n",
       "      <td>0.00</td>\n",
       "      <td>0.00</td>\n",
       "      <td>0.00</td>\n",
       "      <td>0.00</td>\n",
       "      <td>0.00</td>\n",
       "    </tr>\n",
       "    <tr>\n",
       "      <th>max</th>\n",
       "      <td>8.00</td>\n",
       "      <td>8.00</td>\n",
       "      <td>8.00</td>\n",
       "      <td>8.00</td>\n",
       "      <td>8.00</td>\n",
       "      <td>8.00</td>\n",
       "    </tr>\n",
       "  </tbody>\n",
       "</table>\n",
       "</div>"
      ],
      "text/plain": [
       "          PAY_0     PAY_2     PAY_3     PAY_4     PAY_5     PAY_6\n",
       "count 30,000.00 30,000.00 30,000.00 30,000.00 30,000.00 30,000.00\n",
       "mean      -0.02     -0.13     -0.17     -0.22     -0.27     -0.29\n",
       "std        1.12      1.20      1.20      1.17      1.13      1.15\n",
       "min       -2.00     -2.00     -2.00     -2.00     -2.00     -2.00\n",
       "25%       -1.00     -1.00     -1.00     -1.00     -1.00     -1.00\n",
       "50%        0.00      0.00      0.00      0.00      0.00      0.00\n",
       "75%        0.00      0.00      0.00      0.00      0.00      0.00\n",
       "max        8.00      8.00      8.00      8.00      8.00      8.00"
      ]
     },
     "execution_count": 14,
     "metadata": {},
     "output_type": "execute_result"
    }
   ],
   "source": [
    "# Payment delay description (each number representing payments past due)\n",
    "# Pay_0 must represent 'Duly Payed' (payed on time)\n",
    "data[['PAY_0', 'PAY_2', 'PAY_3', 'PAY_4', 'PAY_5', 'PAY_6']].describe()"
   ]
  },
  {
   "cell_type": "code",
   "execution_count": 15,
   "metadata": {},
   "outputs": [
    {
     "data": {
      "text/html": [
       "<div>\n",
       "<style scoped>\n",
       "    .dataframe tbody tr th:only-of-type {\n",
       "        vertical-align: middle;\n",
       "    }\n",
       "\n",
       "    .dataframe tbody tr th {\n",
       "        vertical-align: top;\n",
       "    }\n",
       "\n",
       "    .dataframe thead th {\n",
       "        text-align: right;\n",
       "    }\n",
       "</style>\n",
       "<table border=\"1\" class=\"dataframe\">\n",
       "  <thead>\n",
       "    <tr style=\"text-align: right;\">\n",
       "      <th></th>\n",
       "      <th>LIMIT_BAL</th>\n",
       "      <th>SEX</th>\n",
       "      <th>EDUCATION</th>\n",
       "      <th>MARRIAGE</th>\n",
       "      <th>AGE</th>\n",
       "      <th>PAY_1</th>\n",
       "      <th>PAY_2</th>\n",
       "      <th>PAY_3</th>\n",
       "      <th>PAY_4</th>\n",
       "      <th>PAY_5</th>\n",
       "      <th>...</th>\n",
       "      <th>PAY_AMT1</th>\n",
       "      <th>PAY_AMT2</th>\n",
       "      <th>PAY_AMT3</th>\n",
       "      <th>PAY_AMT4</th>\n",
       "      <th>PAY_AMT5</th>\n",
       "      <th>PAY_AMT6</th>\n",
       "      <th>default payment next month</th>\n",
       "      <th>SEX_ID</th>\n",
       "      <th>EDUCATION_ID</th>\n",
       "      <th>def_pay</th>\n",
       "    </tr>\n",
       "  </thead>\n",
       "  <tbody>\n",
       "    <tr>\n",
       "      <th>0</th>\n",
       "      <td>20000</td>\n",
       "      <td>female</td>\n",
       "      <td>university</td>\n",
       "      <td>1</td>\n",
       "      <td>24</td>\n",
       "      <td>2</td>\n",
       "      <td>2</td>\n",
       "      <td>-1</td>\n",
       "      <td>-1</td>\n",
       "      <td>-2</td>\n",
       "      <td>...</td>\n",
       "      <td>0</td>\n",
       "      <td>689</td>\n",
       "      <td>0</td>\n",
       "      <td>0</td>\n",
       "      <td>0</td>\n",
       "      <td>0</td>\n",
       "      <td>default</td>\n",
       "      <td>0</td>\n",
       "      <td>3</td>\n",
       "      <td>0</td>\n",
       "    </tr>\n",
       "    <tr>\n",
       "      <th>1</th>\n",
       "      <td>120000</td>\n",
       "      <td>female</td>\n",
       "      <td>university</td>\n",
       "      <td>2</td>\n",
       "      <td>26</td>\n",
       "      <td>-1</td>\n",
       "      <td>2</td>\n",
       "      <td>0</td>\n",
       "      <td>0</td>\n",
       "      <td>0</td>\n",
       "      <td>...</td>\n",
       "      <td>0</td>\n",
       "      <td>1000</td>\n",
       "      <td>1000</td>\n",
       "      <td>1000</td>\n",
       "      <td>0</td>\n",
       "      <td>2000</td>\n",
       "      <td>default</td>\n",
       "      <td>0</td>\n",
       "      <td>3</td>\n",
       "      <td>0</td>\n",
       "    </tr>\n",
       "    <tr>\n",
       "      <th>2</th>\n",
       "      <td>90000</td>\n",
       "      <td>female</td>\n",
       "      <td>university</td>\n",
       "      <td>2</td>\n",
       "      <td>34</td>\n",
       "      <td>0</td>\n",
       "      <td>0</td>\n",
       "      <td>0</td>\n",
       "      <td>0</td>\n",
       "      <td>0</td>\n",
       "      <td>...</td>\n",
       "      <td>1518</td>\n",
       "      <td>1500</td>\n",
       "      <td>1000</td>\n",
       "      <td>1000</td>\n",
       "      <td>1000</td>\n",
       "      <td>5000</td>\n",
       "      <td>not default</td>\n",
       "      <td>0</td>\n",
       "      <td>3</td>\n",
       "      <td>1</td>\n",
       "    </tr>\n",
       "    <tr>\n",
       "      <th>3</th>\n",
       "      <td>50000</td>\n",
       "      <td>female</td>\n",
       "      <td>university</td>\n",
       "      <td>1</td>\n",
       "      <td>37</td>\n",
       "      <td>0</td>\n",
       "      <td>0</td>\n",
       "      <td>0</td>\n",
       "      <td>0</td>\n",
       "      <td>0</td>\n",
       "      <td>...</td>\n",
       "      <td>2000</td>\n",
       "      <td>2019</td>\n",
       "      <td>1200</td>\n",
       "      <td>1100</td>\n",
       "      <td>1069</td>\n",
       "      <td>1000</td>\n",
       "      <td>not default</td>\n",
       "      <td>0</td>\n",
       "      <td>3</td>\n",
       "      <td>1</td>\n",
       "    </tr>\n",
       "    <tr>\n",
       "      <th>4</th>\n",
       "      <td>50000</td>\n",
       "      <td>male</td>\n",
       "      <td>university</td>\n",
       "      <td>1</td>\n",
       "      <td>57</td>\n",
       "      <td>-1</td>\n",
       "      <td>0</td>\n",
       "      <td>-1</td>\n",
       "      <td>0</td>\n",
       "      <td>0</td>\n",
       "      <td>...</td>\n",
       "      <td>2000</td>\n",
       "      <td>36681</td>\n",
       "      <td>10000</td>\n",
       "      <td>9000</td>\n",
       "      <td>689</td>\n",
       "      <td>679</td>\n",
       "      <td>not default</td>\n",
       "      <td>1</td>\n",
       "      <td>3</td>\n",
       "      <td>1</td>\n",
       "    </tr>\n",
       "  </tbody>\n",
       "</table>\n",
       "<p>5 rows × 27 columns</p>\n",
       "</div>"
      ],
      "text/plain": [
       "   LIMIT_BAL     SEX   EDUCATION  MARRIAGE  AGE  PAY_1  PAY_2  PAY_3  PAY_4  \\\n",
       "0      20000  female  university         1   24      2      2     -1     -1   \n",
       "1     120000  female  university         2   26     -1      2      0      0   \n",
       "2      90000  female  university         2   34      0      0      0      0   \n",
       "3      50000  female  university         1   37      0      0      0      0   \n",
       "4      50000    male  university         1   57     -1      0     -1      0   \n",
       "\n",
       "   PAY_5  ...  PAY_AMT1  PAY_AMT2  PAY_AMT3  PAY_AMT4  PAY_AMT5  PAY_AMT6  \\\n",
       "0     -2  ...         0       689         0         0         0         0   \n",
       "1      0  ...         0      1000      1000      1000         0      2000   \n",
       "2      0  ...      1518      1500      1000      1000      1000      5000   \n",
       "3      0  ...      2000      2019      1200      1100      1069      1000   \n",
       "4      0  ...      2000     36681     10000      9000       689       679   \n",
       "\n",
       "   default payment next month  SEX_ID  EDUCATION_ID  def_pay  \n",
       "0                     default       0             3        0  \n",
       "1                     default       0             3        0  \n",
       "2                 not default       0             3        1  \n",
       "3                 not default       0             3        1  \n",
       "4                 not default       1             3        1  \n",
       "\n",
       "[5 rows x 27 columns]"
      ]
     },
     "execution_count": 15,
     "metadata": {},
     "output_type": "execute_result"
    }
   ],
   "source": [
    "#Rename feature 'default payment next month' and change value '0' to represent first payment\n",
    "data = data.rename(columns={'PAY_0': 'PAY_1'})\n",
    "data.head()"
   ]
  },
  {
   "cell_type": "code",
   "execution_count": 16,
   "metadata": {},
   "outputs": [
    {
     "data": {
      "text/plain": [
       "count      30,000.00\n",
       "mean      167,484.32\n",
       "std       129,747.66\n",
       "min        10,000.00\n",
       "25%        50,000.00\n",
       "50%       140,000.00\n",
       "75%       240,000.00\n",
       "max     1,000,000.00\n",
       "Name: LIMIT_BAL, dtype: float64"
      ]
     },
     "execution_count": 16,
     "metadata": {},
     "output_type": "execute_result"
    }
   ],
   "source": [
    "data.LIMIT_BAL.describe()"
   ]
  },
  {
   "cell_type": "code",
   "execution_count": 17,
   "metadata": {},
   "outputs": [
    {
     "data": {
      "text/plain": [
       "university         14030\n",
       "graduate school    10585\n",
       "high school         4917\n",
       "other                468\n",
       "Name: EDUCATION, dtype: int64"
      ]
     },
     "execution_count": 17,
     "metadata": {},
     "output_type": "execute_result"
    }
   ],
   "source": [
    "data.EDUCATION.value_counts()"
   ]
  },
  {
   "cell_type": "code",
   "execution_count": 18,
   "metadata": {},
   "outputs": [
    {
     "data": {
      "text/plain": [
       "2    15964\n",
       "1    13659\n",
       "3      323\n",
       "0       54\n",
       "Name: MARRIAGE, dtype: int64"
      ]
     },
     "execution_count": 18,
     "metadata": {},
     "output_type": "execute_result"
    }
   ],
   "source": [
    "data.MARRIAGE.value_counts()"
   ]
  },
  {
   "cell_type": "code",
   "execution_count": 19,
   "metadata": {},
   "outputs": [],
   "source": [
    "data.loc[data.MARRIAGE == 0, 'MARRIAGE'] = 3"
   ]
  },
  {
   "cell_type": "code",
   "execution_count": 20,
   "metadata": {},
   "outputs": [
    {
     "data": {
      "text/plain": [
       "2    15964\n",
       "1    13659\n",
       "3      377\n",
       "Name: MARRIAGE, dtype: int64"
      ]
     },
     "execution_count": 20,
     "metadata": {},
     "output_type": "execute_result"
    }
   ],
   "source": [
    "data.MARRIAGE.value_counts()"
   ]
  },
  {
   "cell_type": "code",
   "execution_count": 21,
   "metadata": {},
   "outputs": [],
   "source": [
    "fill = (data.EDUCATION_ID == 0)\n",
    "data.loc[fill, 'EDUCATION_ID'] = 4"
   ]
  },
  {
   "cell_type": "code",
   "execution_count": 22,
   "metadata": {},
   "outputs": [
    {
     "data": {
      "text/plain": [
       "3    14030\n",
       "4    10585\n",
       "1     4917\n",
       "2      468\n",
       "Name: EDUCATION_ID, dtype: int64"
      ]
     },
     "execution_count": 22,
     "metadata": {},
     "output_type": "execute_result"
    }
   ],
   "source": [
    "data.EDUCATION_ID.value_counts()"
   ]
  },
  {
   "cell_type": "code",
   "execution_count": 23,
   "metadata": {},
   "outputs": [],
   "source": [
    "fill_S = (data.SEX_ID == 0)\n",
    "data.loc[fill_S, 'SEX_ID'] = 2"
   ]
  },
  {
   "cell_type": "code",
   "execution_count": 24,
   "metadata": {},
   "outputs": [
    {
     "data": {
      "text/plain": [
       "2    18112\n",
       "1    11888\n",
       "Name: SEX_ID, dtype: int64"
      ]
     },
     "execution_count": 24,
     "metadata": {},
     "output_type": "execute_result"
    }
   ],
   "source": [
    "data.SEX_ID.value_counts()"
   ]
  },
  {
   "cell_type": "code",
   "execution_count": 25,
   "metadata": {},
   "outputs": [],
   "source": [
    "fill_D = (data.def_pay == 0)\n",
    "data.loc[fill_D, 'def_pay'] = 2"
   ]
  },
  {
   "cell_type": "code",
   "execution_count": 26,
   "metadata": {},
   "outputs": [
    {
     "data": {
      "text/plain": [
       "1    23364\n",
       "2     6636\n",
       "Name: def_pay, dtype: int64"
      ]
     },
     "execution_count": 26,
     "metadata": {},
     "output_type": "execute_result"
    }
   ],
   "source": [
    "# Non-Defalut = 1, Default = 2\n",
    "data.def_pay.value_counts()"
   ]
  },
  {
   "cell_type": "code",
   "execution_count": 27,
   "metadata": {},
   "outputs": [
    {
     "data": {
      "text/plain": [
       "Index(['LIMIT_BAL', 'SEX', 'EDUCATION', 'MARRIAGE', 'AGE', 'PAY_1', 'PAY_2',\n",
       "       'PAY_3', 'PAY_4', 'PAY_5', 'PAY_6', 'BILL_AMT1', 'BILL_AMT2',\n",
       "       'BILL_AMT3', 'BILL_AMT4', 'BILL_AMT5', 'BILL_AMT6', 'PAY_AMT1',\n",
       "       'PAY_AMT2', 'PAY_AMT3', 'PAY_AMT4', 'PAY_AMT5', 'PAY_AMT6',\n",
       "       'default payment next month', 'SEX_ID', 'EDUCATION_ID', 'def_pay'],\n",
       "      dtype='object')"
      ]
     },
     "execution_count": 27,
     "metadata": {},
     "output_type": "execute_result"
    }
   ],
   "source": [
    "data.columns"
   ]
  },
  {
   "cell_type": "markdown",
   "metadata": {},
   "source": [
    "### Analyze Data Attributes"
   ]
  },
  {
   "cell_type": "code",
   "execution_count": 28,
   "metadata": {},
   "outputs": [
    {
     "data": {
      "text/plain": [
       "count   30,000.00\n",
       "mean         3.01\n",
       "std          1.01\n",
       "min          1.00\n",
       "25%          3.00\n",
       "50%          3.00\n",
       "75%          4.00\n",
       "max          4.00\n",
       "Name: EDUCATION_ID, dtype: float64"
      ]
     },
     "execution_count": 28,
     "metadata": {},
     "output_type": "execute_result"
    }
   ],
   "source": [
    "data.EDUCATION_ID.describe()"
   ]
  },
  {
   "cell_type": "code",
   "execution_count": 29,
   "metadata": {},
   "outputs": [
    {
     "data": {
      "text/plain": [
       "count   30,000.00\n",
       "mean         1.60\n",
       "std          0.49\n",
       "min          1.00\n",
       "25%          1.00\n",
       "50%          2.00\n",
       "75%          2.00\n",
       "max          2.00\n",
       "Name: SEX_ID, dtype: float64"
      ]
     },
     "execution_count": 29,
     "metadata": {},
     "output_type": "execute_result"
    }
   ],
   "source": [
    "data.SEX_ID.describe()"
   ]
  },
  {
   "cell_type": "code",
   "execution_count": 30,
   "metadata": {
    "scrolled": true
   },
   "outputs": [
    {
     "data": {
      "text/plain": [
       "count   30,000.00\n",
       "mean         1.56\n",
       "std          0.52\n",
       "min          1.00\n",
       "25%          1.00\n",
       "50%          2.00\n",
       "75%          2.00\n",
       "max          3.00\n",
       "Name: MARRIAGE, dtype: float64"
      ]
     },
     "execution_count": 30,
     "metadata": {},
     "output_type": "execute_result"
    }
   ],
   "source": [
    "data.MARRIAGE.describe()"
   ]
  },
  {
   "cell_type": "code",
   "execution_count": 31,
   "metadata": {
    "scrolled": true
   },
   "outputs": [
    {
     "data": {
      "text/plain": [
       "1    23364\n",
       "2     6636\n",
       "Name: def_pay, dtype: int64"
      ]
     },
     "execution_count": 31,
     "metadata": {},
     "output_type": "execute_result"
    }
   ],
   "source": [
    "data.def_pay.value_counts()"
   ]
  },
  {
   "cell_type": "code",
   "execution_count": 32,
   "metadata": {},
   "outputs": [
    {
     "data": {
      "text/plain": [
       "count   30,000.00\n",
       "mean        35.49\n",
       "std          9.22\n",
       "min         21.00\n",
       "25%         28.00\n",
       "50%         34.00\n",
       "75%         41.00\n",
       "max         79.00\n",
       "Name: AGE, dtype: float64"
      ]
     },
     "execution_count": 32,
     "metadata": {},
     "output_type": "execute_result"
    }
   ],
   "source": [
    "data.AGE.describe()"
   ]
  },
  {
   "cell_type": "code",
   "execution_count": 33,
   "metadata": {},
   "outputs": [
    {
     "data": {
      "text/plain": [
       "count   30,000.00\n",
       "mean        -0.02\n",
       "std          1.12\n",
       "min         -2.00\n",
       "25%         -1.00\n",
       "50%          0.00\n",
       "75%          0.00\n",
       "max          8.00\n",
       "Name: PAY_1, dtype: float64"
      ]
     },
     "execution_count": 33,
     "metadata": {},
     "output_type": "execute_result"
    }
   ],
   "source": [
    "data.PAY_1.describe()"
   ]
  },
  {
   "cell_type": "code",
   "execution_count": 34,
   "metadata": {},
   "outputs": [
    {
     "data": {
      "text/plain": [
       "count   30,000.00\n",
       "mean        -0.13\n",
       "std          1.20\n",
       "min         -2.00\n",
       "25%         -1.00\n",
       "50%          0.00\n",
       "75%          0.00\n",
       "max          8.00\n",
       "Name: PAY_2, dtype: float64"
      ]
     },
     "execution_count": 34,
     "metadata": {},
     "output_type": "execute_result"
    }
   ],
   "source": [
    "data.PAY_2.describe()"
   ]
  },
  {
   "cell_type": "code",
   "execution_count": 35,
   "metadata": {},
   "outputs": [
    {
     "data": {
      "text/plain": [
       "count   30,000.00\n",
       "mean        -0.17\n",
       "std          1.20\n",
       "min         -2.00\n",
       "25%         -1.00\n",
       "50%          0.00\n",
       "75%          0.00\n",
       "max          8.00\n",
       "Name: PAY_3, dtype: float64"
      ]
     },
     "execution_count": 35,
     "metadata": {},
     "output_type": "execute_result"
    }
   ],
   "source": [
    "data.PAY_3.describe()"
   ]
  },
  {
   "cell_type": "code",
   "execution_count": 36,
   "metadata": {},
   "outputs": [
    {
     "data": {
      "text/plain": [
       "count   30,000.00\n",
       "mean        -0.22\n",
       "std          1.17\n",
       "min         -2.00\n",
       "25%         -1.00\n",
       "50%          0.00\n",
       "75%          0.00\n",
       "max          8.00\n",
       "Name: PAY_4, dtype: float64"
      ]
     },
     "execution_count": 36,
     "metadata": {},
     "output_type": "execute_result"
    }
   ],
   "source": [
    "data.PAY_4.describe()"
   ]
  },
  {
   "cell_type": "code",
   "execution_count": 37,
   "metadata": {},
   "outputs": [
    {
     "data": {
      "text/plain": [
       "count   30,000.00\n",
       "mean        -0.27\n",
       "std          1.13\n",
       "min         -2.00\n",
       "25%         -1.00\n",
       "50%          0.00\n",
       "75%          0.00\n",
       "max          8.00\n",
       "Name: PAY_5, dtype: float64"
      ]
     },
     "execution_count": 37,
     "metadata": {},
     "output_type": "execute_result"
    }
   ],
   "source": [
    "data.PAY_5.describe()"
   ]
  },
  {
   "cell_type": "code",
   "execution_count": 38,
   "metadata": {},
   "outputs": [
    {
     "data": {
      "text/plain": [
       "count   30,000.00\n",
       "mean        -0.29\n",
       "std          1.15\n",
       "min         -2.00\n",
       "25%         -1.00\n",
       "50%          0.00\n",
       "75%          0.00\n",
       "max          8.00\n",
       "Name: PAY_6, dtype: float64"
      ]
     },
     "execution_count": 38,
     "metadata": {},
     "output_type": "execute_result"
    }
   ],
   "source": [
    "data.PAY_6.describe()"
   ]
  },
  {
   "cell_type": "code",
   "execution_count": 39,
   "metadata": {},
   "outputs": [
    {
     "data": {
      "text/plain": [
       "count     30,000.00\n",
       "mean      51,223.33\n",
       "std       73,635.86\n",
       "min     -165,580.00\n",
       "25%        3,558.75\n",
       "50%       22,381.50\n",
       "75%       67,091.00\n",
       "max      964,511.00\n",
       "Name: BILL_AMT1, dtype: float64"
      ]
     },
     "execution_count": 39,
     "metadata": {},
     "output_type": "execute_result"
    }
   ],
   "source": [
    "data.BILL_AMT1.describe()"
   ]
  },
  {
   "cell_type": "code",
   "execution_count": 40,
   "metadata": {},
   "outputs": [
    {
     "data": {
      "text/plain": [
       "count    30,000.00\n",
       "mean     49,179.08\n",
       "std      71,173.77\n",
       "min     -69,777.00\n",
       "25%       2,984.75\n",
       "50%      21,200.00\n",
       "75%      64,006.25\n",
       "max     983,931.00\n",
       "Name: BILL_AMT2, dtype: float64"
      ]
     },
     "execution_count": 40,
     "metadata": {},
     "output_type": "execute_result"
    }
   ],
   "source": [
    "data.BILL_AMT2.describe()"
   ]
  },
  {
   "cell_type": "code",
   "execution_count": 41,
   "metadata": {},
   "outputs": [
    {
     "data": {
      "text/plain": [
       "count      30,000.00\n",
       "mean       47,013.15\n",
       "std        69,349.39\n",
       "min      -157,264.00\n",
       "25%         2,666.25\n",
       "50%        20,088.50\n",
       "75%        60,164.75\n",
       "max     1,664,089.00\n",
       "Name: BILL_AMT3, dtype: float64"
      ]
     },
     "execution_count": 41,
     "metadata": {},
     "output_type": "execute_result"
    }
   ],
   "source": [
    "data.BILL_AMT3.describe()"
   ]
  },
  {
   "cell_type": "code",
   "execution_count": 42,
   "metadata": {},
   "outputs": [
    {
     "data": {
      "text/plain": [
       "count     30,000.00\n",
       "mean      43,262.95\n",
       "std       64,332.86\n",
       "min     -170,000.00\n",
       "25%        2,326.75\n",
       "50%       19,052.00\n",
       "75%       54,506.00\n",
       "max      891,586.00\n",
       "Name: BILL_AMT4, dtype: float64"
      ]
     },
     "execution_count": 42,
     "metadata": {},
     "output_type": "execute_result"
    }
   ],
   "source": [
    "data.BILL_AMT4.describe()"
   ]
  },
  {
   "cell_type": "code",
   "execution_count": 43,
   "metadata": {},
   "outputs": [
    {
     "data": {
      "text/plain": [
       "count    30,000.00\n",
       "mean     40,311.40\n",
       "std      60,797.16\n",
       "min     -81,334.00\n",
       "25%       1,763.00\n",
       "50%      18,104.50\n",
       "75%      50,190.50\n",
       "max     927,171.00\n",
       "Name: BILL_AMT5, dtype: float64"
      ]
     },
     "execution_count": 43,
     "metadata": {},
     "output_type": "execute_result"
    }
   ],
   "source": [
    "data.BILL_AMT5.describe()"
   ]
  },
  {
   "cell_type": "code",
   "execution_count": 44,
   "metadata": {},
   "outputs": [
    {
     "data": {
      "text/plain": [
       "count     30,000.00\n",
       "mean      38,871.76\n",
       "std       59,554.11\n",
       "min     -339,603.00\n",
       "25%        1,256.00\n",
       "50%       17,071.00\n",
       "75%       49,198.25\n",
       "max      961,664.00\n",
       "Name: BILL_AMT6, dtype: float64"
      ]
     },
     "execution_count": 44,
     "metadata": {},
     "output_type": "execute_result"
    }
   ],
   "source": [
    "data.BILL_AMT6.describe()"
   ]
  },
  {
   "cell_type": "code",
   "execution_count": 45,
   "metadata": {},
   "outputs": [
    {
     "data": {
      "text/plain": [
       "count    30,000.00\n",
       "mean      5,663.58\n",
       "std      16,563.28\n",
       "min           0.00\n",
       "25%       1,000.00\n",
       "50%       2,100.00\n",
       "75%       5,006.00\n",
       "max     873,552.00\n",
       "Name: PAY_AMT1, dtype: float64"
      ]
     },
     "execution_count": 45,
     "metadata": {},
     "output_type": "execute_result"
    }
   ],
   "source": [
    "data.PAY_AMT1.describe()"
   ]
  },
  {
   "cell_type": "code",
   "execution_count": 46,
   "metadata": {},
   "outputs": [
    {
     "data": {
      "text/plain": [
       "count      30,000.00\n",
       "mean        5,921.16\n",
       "std        23,040.87\n",
       "min             0.00\n",
       "25%           833.00\n",
       "50%         2,009.00\n",
       "75%         5,000.00\n",
       "max     1,684,259.00\n",
       "Name: PAY_AMT2, dtype: float64"
      ]
     },
     "execution_count": 46,
     "metadata": {},
     "output_type": "execute_result"
    }
   ],
   "source": [
    "data.PAY_AMT2.describe()"
   ]
  },
  {
   "cell_type": "code",
   "execution_count": 47,
   "metadata": {},
   "outputs": [
    {
     "data": {
      "text/plain": [
       "count    30,000.00\n",
       "mean      5,225.68\n",
       "std      17,606.96\n",
       "min           0.00\n",
       "25%         390.00\n",
       "50%       1,800.00\n",
       "75%       4,505.00\n",
       "max     896,040.00\n",
       "Name: PAY_AMT3, dtype: float64"
      ]
     },
     "execution_count": 47,
     "metadata": {},
     "output_type": "execute_result"
    }
   ],
   "source": [
    "data.PAY_AMT3.describe()"
   ]
  },
  {
   "cell_type": "code",
   "execution_count": 48,
   "metadata": {},
   "outputs": [
    {
     "data": {
      "text/plain": [
       "count    30,000.00\n",
       "mean      4,826.08\n",
       "std      15,666.16\n",
       "min           0.00\n",
       "25%         296.00\n",
       "50%       1,500.00\n",
       "75%       4,013.25\n",
       "max     621,000.00\n",
       "Name: PAY_AMT4, dtype: float64"
      ]
     },
     "execution_count": 48,
     "metadata": {},
     "output_type": "execute_result"
    }
   ],
   "source": [
    "data.PAY_AMT4.describe()"
   ]
  },
  {
   "cell_type": "code",
   "execution_count": 49,
   "metadata": {},
   "outputs": [
    {
     "data": {
      "text/plain": [
       "count    30,000.00\n",
       "mean      4,799.39\n",
       "std      15,278.31\n",
       "min           0.00\n",
       "25%         252.50\n",
       "50%       1,500.00\n",
       "75%       4,031.50\n",
       "max     426,529.00\n",
       "Name: PAY_AMT5, dtype: float64"
      ]
     },
     "execution_count": 49,
     "metadata": {},
     "output_type": "execute_result"
    }
   ],
   "source": [
    "data.PAY_AMT5.describe()"
   ]
  },
  {
   "cell_type": "code",
   "execution_count": 50,
   "metadata": {},
   "outputs": [
    {
     "data": {
      "text/plain": [
       "count    30,000.00\n",
       "mean      5,215.50\n",
       "std      17,777.47\n",
       "min           0.00\n",
       "25%         117.75\n",
       "50%       1,500.00\n",
       "75%       4,000.00\n",
       "max     528,666.00\n",
       "Name: PAY_AMT6, dtype: float64"
      ]
     },
     "execution_count": 50,
     "metadata": {},
     "output_type": "execute_result"
    }
   ],
   "source": [
    "data.PAY_AMT6.describe()"
   ]
  },
  {
   "cell_type": "code",
   "execution_count": 51,
   "metadata": {},
   "outputs": [
    {
     "data": {
      "text/plain": [
       "count      30,000.00\n",
       "mean      167,484.32\n",
       "std       129,747.66\n",
       "min        10,000.00\n",
       "25%        50,000.00\n",
       "50%       140,000.00\n",
       "75%       240,000.00\n",
       "max     1,000,000.00\n",
       "Name: LIMIT_BAL, dtype: float64"
      ]
     },
     "execution_count": 51,
     "metadata": {},
     "output_type": "execute_result"
    }
   ],
   "source": [
    "data.LIMIT_BAL.describe()"
   ]
  },
  {
   "cell_type": "markdown",
   "metadata": {},
   "source": [
    "### Feature Engineering"
   ]
  },
  {
   "cell_type": "markdown",
   "metadata": {},
   "source": [
    "#### Bin Data"
   ]
  },
  {
   "cell_type": "markdown",
   "metadata": {},
   "source": [
    "For ease of analysis, we will bin the data into decades."
   ]
  },
  {
   "cell_type": "code",
   "execution_count": 52,
   "metadata": {},
   "outputs": [
    {
     "data": {
      "image/png": "[encoded data removed]",
      "text/plain": [
       "<Figure size 432x288 with 1 Axes>"
      ]
     },
     "metadata": {
      "needs_background": "light"
     },
     "output_type": "display_data"
    },
    {
     "name": "stdout",
     "output_type": "stream",
     "text": [
      "Age Groupings (years): (1:>20, 2:>= 30, 3:>= 40, 4:>= 50, 5:>= 60, 6:>= 70)\n"
     ]
    }
   ],
   "source": [
    "data['AgeBin'] = 0 #creates a column of 0\n",
    "data.loc[((data['AGE'] > 20) & (data['AGE'] < 30)) , 'AgeBin'] = 1\n",
    "data.loc[((data['AGE'] >= 30) & (data['AGE'] < 40)) , 'AgeBin'] = 2\n",
    "data.loc[((data['AGE'] >= 40) & (data['AGE'] < 50)) , 'AgeBin'] = 3\n",
    "data.loc[((data['AGE'] >= 50) & (data['AGE'] < 60)) , 'AgeBin'] = 4\n",
    "data.loc[((data['AGE'] >= 60) & (data['AGE'] < 70)) , 'AgeBin'] = 5\n",
    "data.loc[((data['AGE'] >= 70) & (data['AGE'] < 81)) , 'AgeBin'] = 6\n",
    "plt.figure()\n",
    "plt.title('Age Groups')\n",
    "data.AgeBin.hist()\n",
    "plt.show()\n",
    "print(\"Age Groupings (years): (1:>20, 2:>= 30, 3:>= 40, 4:>= 50, 5:>= 60, 6:>= 70)\")"
   ]
  },
  {
   "cell_type": "code",
   "execution_count": 53,
   "metadata": {},
   "outputs": [],
   "source": [
    "def formgroup(Col1, Col2):\n",
    "    res = data.groupby([Col1, Col2]).size().unstack()\n",
    "    return res"
   ]
  },
  {
   "cell_type": "code",
   "execution_count": 54,
   "metadata": {},
   "outputs": [],
   "source": [
    "data['SEX_MAR'] = data.SEX_ID * data.MARRIAGE\n",
    "formgroup('SEX_MAR', 'def_pay')\n",
    "data['SEX_MAR_2'] = 0\n",
    "data.loc[((data.SEX_ID == 1) & (data.MARRIAGE == 1)) , 'SEX_MAR_2'] = 1 #married man\n",
    "data.loc[((data.SEX_ID == 1) & (data.MARRIAGE == 2)) , 'SEX_MAR_2'] = 2 #single man\n",
    "data.loc[((data.SEX_ID == 1) & (data.MARRIAGE == 3)) , 'SEX_MAR_2'] = 3 #divorced man\n",
    "data.loc[((data.SEX_ID == 2) & (data.MARRIAGE == 1)) , 'SEX_MAR_2'] = 4 #married woman\n",
    "data.loc[((data.SEX_ID == 2) & (data.MARRIAGE == 2)) , 'SEX_MAR_2'] = 5 #single woman\n",
    "data.loc[((data.SEX_ID == 2) & (data.MARRIAGE == 3)) , 'SEX_MAR_2'] = 6 #divorced woman\n",
    "formgroup('SEX_MAR_2', 'def_pay')\n",
    "del data['SEX_MAR']\n",
    "data = data.rename(columns={'SEX_MAR_2': 'SEX_MAR'})"
   ]
  },
  {
   "cell_type": "markdown",
   "metadata": {},
   "source": [
    "Default by Age Groups"
   ]
  },
  {
   "cell_type": "code",
   "execution_count": 55,
   "metadata": {},
   "outputs": [
    {
     "name": "stdout",
     "output_type": "stream",
     "text": [
      "def_pay     1     2\n",
      "AgeBin             \n",
      "1        7421  2197\n",
      "2        8962  2276\n",
      "3        4979  1485\n",
      "4        1759   582\n",
      "5         225    89\n",
      "6          18     7\n",
      "SEX_ID     1     2\n",
      "AgeBin            \n",
      "1       3281  6337\n",
      "2       4565  6673\n",
      "3       2771  3693\n",
      "4       1092  1249\n",
      "5        166   148\n",
      "6         13    12\n"
     ]
    }
   ],
   "source": [
    "agedefpay=formgroup('AgeBin', 'def_pay')\n",
    "print(agedefpay)\n",
    "agesex=formgroup('AgeBin', 'SEX_ID')\n",
    "print(agesex)"
   ]
  },
  {
   "cell_type": "code",
   "execution_count": 56,
   "metadata": {},
   "outputs": [
    {
     "data": {
      "text/html": [
       "<div>\n",
       "<style scoped>\n",
       "    .dataframe tbody tr th:only-of-type {\n",
       "        vertical-align: middle;\n",
       "    }\n",
       "\n",
       "    .dataframe tbody tr th {\n",
       "        vertical-align: top;\n",
       "    }\n",
       "\n",
       "    .dataframe thead th {\n",
       "        text-align: right;\n",
       "    }\n",
       "</style>\n",
       "<table border=\"1\" class=\"dataframe\">\n",
       "  <thead>\n",
       "    <tr style=\"text-align: right;\">\n",
       "      <th>def_pay</th>\n",
       "      <th>1</th>\n",
       "      <th>2</th>\n",
       "    </tr>\n",
       "    <tr>\n",
       "      <th>SEX_AGE</th>\n",
       "      <th></th>\n",
       "      <th></th>\n",
       "    </tr>\n",
       "  </thead>\n",
       "  <tbody>\n",
       "    <tr>\n",
       "      <th>0</th>\n",
       "      <td>18</td>\n",
       "      <td>7</td>\n",
       "    </tr>\n",
       "    <tr>\n",
       "      <th>1</th>\n",
       "      <td>2492</td>\n",
       "      <td>789</td>\n",
       "    </tr>\n",
       "    <tr>\n",
       "      <th>2</th>\n",
       "      <td>3515</td>\n",
       "      <td>1050</td>\n",
       "    </tr>\n",
       "    <tr>\n",
       "      <th>3</th>\n",
       "      <td>2080</td>\n",
       "      <td>691</td>\n",
       "    </tr>\n",
       "    <tr>\n",
       "      <th>4</th>\n",
       "      <td>797</td>\n",
       "      <td>295</td>\n",
       "    </tr>\n",
       "    <tr>\n",
       "      <th>5</th>\n",
       "      <td>122</td>\n",
       "      <td>44</td>\n",
       "    </tr>\n",
       "    <tr>\n",
       "      <th>6</th>\n",
       "      <td>4929</td>\n",
       "      <td>1408</td>\n",
       "    </tr>\n",
       "    <tr>\n",
       "      <th>7</th>\n",
       "      <td>5447</td>\n",
       "      <td>1226</td>\n",
       "    </tr>\n",
       "    <tr>\n",
       "      <th>8</th>\n",
       "      <td>2899</td>\n",
       "      <td>794</td>\n",
       "    </tr>\n",
       "    <tr>\n",
       "      <th>9</th>\n",
       "      <td>962</td>\n",
       "      <td>287</td>\n",
       "    </tr>\n",
       "    <tr>\n",
       "      <th>10</th>\n",
       "      <td>103</td>\n",
       "      <td>45</td>\n",
       "    </tr>\n",
       "  </tbody>\n",
       "</table>\n",
       "</div>"
      ],
      "text/plain": [
       "def_pay     1     2\n",
       "SEX_AGE            \n",
       "0          18     7\n",
       "1        2492   789\n",
       "2        3515  1050\n",
       "3        2080   691\n",
       "4         797   295\n",
       "5         122    44\n",
       "6        4929  1408\n",
       "7        5447  1226\n",
       "8        2899   794\n",
       "9         962   287\n",
       "10        103    45"
      ]
     },
     "execution_count": 56,
     "metadata": {},
     "output_type": "execute_result"
    }
   ],
   "source": [
    "data['SEX_AGE'] = 0\n",
    "data.loc[((data.SEX_ID == 1) & (data.AgeBin == 1)) , 'SEX_AGE'] = 1 #FEMALE 20'yrs\n",
    "data.loc[((data.SEX_ID == 1) & (data.AgeBin == 2)) , 'SEX_AGE'] = 2 #FEMALE 30'yrs\n",
    "data.loc[((data.SEX_ID == 1) & (data.AgeBin == 3)) , 'SEX_AGE'] = 3 #FEMALE 40'yrs\n",
    "data.loc[((data.SEX_ID == 1) & (data.AgeBin == 4)) , 'SEX_AGE'] = 4 #FEMALE 50'yrs\n",
    "data.loc[((data.SEX_ID == 1) & (data.AgeBin == 5)) , 'SEX_AGE'] = 5 #FEMALE 60+\n",
    "data.loc[((data.SEX_ID == 2) & (data.AgeBin == 1)) , 'SEX_AGE'] = 6 #MALE 20'yrs\n",
    "data.loc[((data.SEX_ID == 2) & (data.AgeBin == 2)) , 'SEX_AGE'] = 7 #MALE 30'yrs\n",
    "data.loc[((data.SEX_ID == 2) & (data.AgeBin == 3)) , 'SEX_AGE'] = 8 #MALE 40'yrs\n",
    "data.loc[((data.SEX_ID == 2) & (data.AgeBin == 4)) , 'SEX_AGE'] = 9 #MALE 50'yrs\n",
    "data.loc[((data.SEX_ID == 2) & (data.AgeBin == 5)) , 'SEX_AGE'] = 10 #MALE 60+\n",
    "formgroup('SEX_AGE', 'def_pay')"
   ]
  },
  {
   "cell_type": "code",
   "execution_count": 57,
   "metadata": {},
   "outputs": [],
   "source": [
    "#Actively Using\n",
    "data['active_6'] = 1\n",
    "data['active_5'] = 1\n",
    "data['active_4'] = 1\n",
    "data['active_3'] = 1\n",
    "data['active_2'] = 1\n",
    "data['active_1'] = 1\n",
    "data.loc[((data.PAY_6 == 0) & (data.BILL_AMT6 == 0) & (data.PAY_AMT6 == 0)) , 'active_6'] = 0\n",
    "data.loc[((data.PAY_5 == 0) & (data.BILL_AMT5 == 0) & (data.PAY_AMT5 == 0)) , 'active_5'] = 0\n",
    "data.loc[((data.PAY_4 == 0) & (data.BILL_AMT4 == 0) & (data.PAY_AMT4 == 0)) , 'active_4'] = 0\n",
    "data.loc[((data.PAY_3 == 0) & (data.BILL_AMT3 == 0) & (data.PAY_AMT3 == 0)) , 'active_3'] = 0\n",
    "data.loc[((data.PAY_2 == 0) & (data.BILL_AMT2 == 0) & (data.PAY_AMT2 == 0)) , 'active_2'] = 0\n",
    "data.loc[((data.PAY_1 == 0) & (data.BILL_AMT1 == 0) & (data.PAY_AMT1 == 0)) , 'active_1'] = 0"
   ]
  },
  {
   "cell_type": "code",
   "execution_count": 58,
   "metadata": {},
   "outputs": [
    {
     "data": {
      "text/plain": [
       "6    29569\n",
       "5    29743\n",
       "4    29816\n",
       "3    29787\n",
       "2    29815\n",
       "1    30000\n",
       "dtype: int64"
      ]
     },
     "execution_count": 58,
     "metadata": {},
     "output_type": "execute_result"
    }
   ],
   "source": [
    "pd.Series([data[data.active_6 == 1].def_pay.count(),\n",
    "          data[data.active_5 == 1].def_pay.count(),\n",
    "          data[data.active_4 == 1].def_pay.count(),\n",
    "          data[data.active_3 == 1].def_pay.count(),\n",
    "          data[data.active_2 == 1].def_pay.count(),\n",
    "          data[data.active_1 == 1].def_pay.count()], [6,5,4,3,2,1])"
   ]
  },
  {
   "cell_type": "markdown",
   "metadata": {},
   "source": [
    "Amount Billed in relation to the Balance Limit"
   ]
  },
  {
   "cell_type": "code",
   "execution_count": 59,
   "metadata": {},
   "outputs": [
    {
     "name": "stdout",
     "output_type": "stream",
     "text": [
      "       LIMIT_BAL  average_5  BILL_AMT5  average_4  BILL_AMT4  average_3  \\\n",
      "12874     170000       0.85      86538       0.87      84558      10.98   \n",
      "19735     200000       4.62      62356       3.80      66234       2.73   \n",
      "28935     460000       1.25       5739       2.00      12657       2.89   \n",
      "12755     230000       0.00          0       0.00          0       0.00   \n",
      "6584      260000       4.17      10854       4.61      13100       3.71   \n",
      "26244     500000       5.15     265742       7.98     312315      11.55   \n",
      "14165     210000       2.91     107697       3.41     111893      19.40   \n",
      "12916     330000       0.67       2205       1.77       6033       1.82   \n",
      "4463      220000       1.08       2256       1.22       2963       1.36   \n",
      "24107     110000       1.09      74138       1.37      73253       1.45   \n",
      "23077     230000       0.00         -1       0.00         -1       0.00   \n",
      "18599     320000       0.41     105952       1.20     107318       1.86   \n",
      "23929      50000       0.70      12608       0.55      12214       0.49   \n",
      "18037      20000       1.52      18783       2.28      18391       2.50   \n",
      "6965       50000       2.07      30125       2.04      29894       1.93   \n",
      "1450       40000       0.95      13811       0.93      13530       1.05   \n",
      "11242     150000       5.90     151978       3.82     149199       3.42   \n",
      "21026      50000       0.00          0       0.00          0      34.27   \n",
      "25380      90000       0.46      10237       2.78      14589       8.70   \n",
      "10225     110000      53.34     112716       2.37      57066       4.42   \n",
      "\n",
      "       BILL_AMT3  average_2  BILL_AMT2  average_1  BILL_AMT1  def_pay  \n",
      "12874     134372      10.38     142954       9.55     146518        1  \n",
      "19735      65265       2.18      63814       1.85      62574        1  \n",
      "28935      21494       2.77       8869       2.84      14460        1  \n",
      "12755          0       0.00          0       0.30       3454        2  \n",
      "6584        4948       4.22      12722       3.38      10425        1  \n",
      "26244     395522      14.83     505753      12.38     501369        1  \n",
      "14165     214775      15.15     209873      12.59     204824        1  \n",
      "12916       6350       3.69      30630       3.28       5480        1  \n",
      "4463        3627       1.61       5183       3.13      20208        1  \n",
      "24107      71796       1.48      70338       2.48      74349        1  \n",
      "23077         -1       0.00         -1       0.06        711        1  \n",
      "18599     112144       2.58     122307       2.30     120158        1  \n",
      "23929      11200       0.45      10178       0.43       9168        1  \n",
      "18037      16483       2.19      15132       1.99      14124        1  \n",
      "6965       29550      12.17      49527      10.28      49385        1  \n",
      "1450       13348       1.11      12307       1.13      11273        1  \n",
      "11242     147332       3.21     145714       2.87     131490        1  \n",
      "21026      51400      26.72      51043      21.86      49999        1  \n",
      "25380      32037      15.92      64482      19.18      91367        1  \n",
      "10225      64237      14.69     111480      12.44     111249        1  \n"
     ]
    }
   ],
   "source": [
    "data['average_5'] = ((data['BILL_AMT5'] - (data['BILL_AMT6'] - data['PAY_AMT5']))) / data['LIMIT_BAL']*100\n",
    "data['average_4'] = (((data['BILL_AMT5'] - (data['BILL_AMT6'] - data['PAY_AMT5'])) +\n",
    "                 (data['BILL_AMT4'] - (data['BILL_AMT5'] - data['PAY_AMT4']))) / 2) / data['LIMIT_BAL']*100\n",
    "data['average_3'] = (((data['BILL_AMT5'] - (data['BILL_AMT6'] - data['PAY_AMT5'])) +\n",
    "                 (data['BILL_AMT4'] - (data['BILL_AMT5'] - data['PAY_AMT4'])) +\n",
    "                 (data['BILL_AMT3'] - (data['BILL_AMT4'] - data['PAY_AMT3']))) / 3) / data['LIMIT_BAL']*100\n",
    "data['average_2'] = (((data['BILL_AMT5'] - (data['BILL_AMT6'] - data['PAY_AMT5'])) +\n",
    "                 (data['BILL_AMT4'] - (data['BILL_AMT5'] - data['PAY_AMT4'])) +\n",
    "                 (data['BILL_AMT3'] - (data['BILL_AMT4'] - data['PAY_AMT3'])) +\n",
    "                 (data['BILL_AMT2'] - (data['BILL_AMT3'] - data['PAY_AMT2']))) / 4) / data['LIMIT_BAL']*100\n",
    "data['average_1'] = (((data['BILL_AMT5'] - (data['BILL_AMT6'] - data['PAY_AMT5'])) +\n",
    "                 (data['BILL_AMT4'] - (data['BILL_AMT5'] - data['PAY_AMT4'])) +\n",
    "                 (data['BILL_AMT3'] - (data['BILL_AMT4'] - data['PAY_AMT3'])) +\n",
    "                 (data['BILL_AMT2'] - (data['BILL_AMT3'] - data['PAY_AMT2'])) +\n",
    "                 (data['BILL_AMT1'] - (data['BILL_AMT2'] - data['PAY_AMT1']))) / 5) / data['LIMIT_BAL']*100\n",
    "average=data[['LIMIT_BAL', 'average_5', 'BILL_AMT5', 'average_4', 'BILL_AMT4','average_3', 'BILL_AMT3',\n",
    "    'average_2', 'BILL_AMT2', 'average_1', 'BILL_AMT1', 'def_pay']].sample(20)\n",
    "print(average)"
   ]
  },
  {
   "cell_type": "code",
   "execution_count": 60,
   "metadata": {},
   "outputs": [],
   "source": [
    "# Percentage of Bill Amount as a total of the Limit Balance\n",
    "# Non-Defalut = 1, Default = 2"
   ]
  },
  {
   "cell_type": "code",
   "execution_count": 61,
   "metadata": {},
   "outputs": [
    {
     "name": "stdout",
     "output_type": "stream",
     "text": [
      "       InvoiceLimit_6  InvoiceLimit_5  InvoiceLimit_4  InvoiceLimit_3  \\\n",
      "19914           83.44           84.15           84.86           84.80   \n",
      "6860            64.45           65.32           66.24           66.75   \n",
      "6927            91.23           91.48           90.92           91.03   \n",
      "18276           64.29           61.88            9.68            9.95   \n",
      "23456          100.00           99.79           99.50           94.04   \n",
      "7169           100.00          100.00          100.00          100.00   \n",
      "902             84.27           76.40           76.67           45.65   \n",
      "12974           99.89           99.68           99.50           99.49   \n",
      "23198           84.01           84.93           85.35           85.76   \n",
      "1127            97.94           99.00           99.86           99.37   \n",
      "28832           69.59           60.41           51.29           52.56   \n",
      "4862             6.51            8.28           10.40            8.17   \n",
      "23052          100.00          100.00          100.00          100.00   \n",
      "6270            59.54           60.33           61.14           45.10   \n",
      "10545            0.34          102.41           91.26            2.27   \n",
      "4259            33.15           39.20           40.54           42.00   \n",
      "4075            73.17           73.45           74.25           74.74   \n",
      "4948            97.55           88.58           97.53          100.01   \n",
      "20984           92.11           80.84           71.81           93.71   \n",
      "18239            8.48           10.45           11.25           12.38   \n",
      "\n",
      "       InvoiceLimit_2  InvoiceLimit_1  def_pay  \n",
      "19914           85.20           85.81        1  \n",
      "6860            56.07           51.21        1  \n",
      "6927            81.74           81.09        1  \n",
      "18276            8.76            7.75        1  \n",
      "23456           97.64           97.10        1  \n",
      "7169           100.00           48.00        2  \n",
      "902             29.14           23.51        1  \n",
      "12974           99.81           99.81        1  \n",
      "23198           86.48           86.31        1  \n",
      "1127            99.33           99.17        1  \n",
      "28832           49.69           38.78        1  \n",
      "4862             9.20            9.52        2  \n",
      "23052          100.00           99.22        2  \n",
      "6270            47.18           49.91        1  \n",
      "10545            4.16           -0.29        1  \n",
      "4259            44.03           42.54        2  \n",
      "4075             7.38            9.47        2  \n",
      "4948           100.01           98.50        1  \n",
      "20984           87.66           95.75        1  \n",
      "18239          100.04          100.04        1  \n"
     ]
    }
   ],
   "source": [
    "data['InvoiceLimit_6'] = (data.LIMIT_BAL - data.BILL_AMT6) / data.LIMIT_BAL*100\n",
    "data['InvoiceLimit_5'] = (data.LIMIT_BAL - data.BILL_AMT5) / data.LIMIT_BAL*100\n",
    "data['InvoiceLimit_4'] = (data.LIMIT_BAL - data.BILL_AMT4) / data.LIMIT_BAL*100\n",
    "data['InvoiceLimit_3'] = (data.LIMIT_BAL - data.BILL_AMT3) / data.LIMIT_BAL*100\n",
    "data['InvoiceLimit_2'] = (data.LIMIT_BAL - data.BILL_AMT2) / data.LIMIT_BAL*100\n",
    "data['InvoiceLimit_1'] = (data.LIMIT_BAL - data.BILL_AMT1) / data.LIMIT_BAL*100\n",
    "InvoiceLimit=data[['InvoiceLimit_6', 'InvoiceLimit_5', 'InvoiceLimit_4', 'InvoiceLimit_3', 'InvoiceLimit_2',\n",
    "   'InvoiceLimit_1', 'def_pay']].sample(20)\n",
    "print(InvoiceLimit)"
   ]
  },
  {
   "cell_type": "code",
   "execution_count": 62,
   "metadata": {},
   "outputs": [],
   "source": [
    "data['PAY_1_-1'] = (data.PAY_1 == -1)\n",
    "data['PAY_1_-2'] = (data.PAY_1 == -2)\n",
    "data['PAY_1_0'] = (data.PAY_1 == 0)\n",
    "data['PAY_1_1'] = (data.PAY_1 == 1)\n",
    "data['PAY_1_2'] = (data.PAY_1 == 2)\n",
    "data['PAY_1_3'] = (data.PAY_1 == 3)\n",
    "data['PAY_1_4'] = (data.PAY_1 == 4)\n",
    "data['PAY_1_5'] = (data.PAY_1 == 5)\n",
    "data['PAY_1_6'] = (data.PAY_1 == 6)\n",
    "data['PAY_1_7'] = (data.PAY_1 == 7)\n",
    "data['PAY_1_8'] = (data.PAY_1 == 8)\n",
    "\n",
    "data['PAY_2_-1'] = (data.PAY_1 == -1)\n",
    "data['PAY_2_-2'] = (data.PAY_1 == -2)\n",
    "data['PAY_2_0'] = (data.PAY_1 == 0)\n",
    "data['PAY_2_1'] = (data.PAY_1 == 1)\n",
    "data['PAY_2_2'] = (data.PAY_1 == 2)\n",
    "data['PAY_2_3'] = (data.PAY_1 == 3)\n",
    "data['PAY_2_4'] = (data.PAY_1 == 4)\n",
    "data['PAY_2_5'] = (data.PAY_1 == 5)\n",
    "data['PAY_2_6'] = (data.PAY_1 == 6)\n",
    "data['PAY_2_7'] = (data.PAY_1 == 7)\n",
    "data['PAY_2_8'] = (data.PAY_1 == 8)\n",
    "\n",
    "data['PAY_3_-1'] = (data.PAY_1 == -1)\n",
    "data['PAY_3_-2'] = (data.PAY_1 == -2)\n",
    "data['PAY_3_0'] = (data.PAY_1 == 0)\n",
    "data['PAY_3_1'] = (data.PAY_1 == 1)\n",
    "data['PAY_3_2'] = (data.PAY_1 == 2)\n",
    "data['PAY_3_3'] = (data.PAY_1 == 3)\n",
    "data['PAY_3_4'] = (data.PAY_1 == 4)\n",
    "data['PAY_3_5'] = (data.PAY_1 == 5)\n",
    "data['PAY_3_6'] = (data.PAY_1 == 6)\n",
    "data['PAY_3_7'] = (data.PAY_1 == 7)\n",
    "data['PAY_3_8'] = (data.PAY_1 == 8)\n",
    "\n",
    "data['PAY_4_-1'] = (data.PAY_1 == -1)\n",
    "data['PAY_4_-2'] = (data.PAY_1 == -2)\n",
    "data['PAY_4_0'] = (data.PAY_1 == 0)\n",
    "data['PAY_4_1'] = (data.PAY_1 == 1)\n",
    "data['PAY_4_2'] = (data.PAY_1 == 2)\n",
    "data['PAY_4_3'] = (data.PAY_1 == 3)\n",
    "data['PAY_4_4'] = (data.PAY_1 == 4)\n",
    "data['PAY_4_5'] = (data.PAY_1 == 5)\n",
    "data['PAY_4_6'] = (data.PAY_1 == 6)\n",
    "data['PAY_4_7'] = (data.PAY_1 == 7)\n",
    "data['PAY_4_8'] = (data.PAY_1 == 8)\n",
    "\n",
    "data['PAY_5_-1'] = (data.PAY_1 == -1)\n",
    "data['PAY_5_-2'] = (data.PAY_1 == -2)\n",
    "data['PAY_5_0'] = (data.PAY_1 == 0)\n",
    "data['PAY_5_1'] = (data.PAY_1 == 1)\n",
    "data['PAY_5_2'] = (data.PAY_1 == 2)\n",
    "data['PAY_5_3'] = (data.PAY_1 == 3)\n",
    "data['PAY_5_4'] = (data.PAY_1 == 4)\n",
    "data['PAY_5_5'] = (data.PAY_1 == 5)\n",
    "data['PAY_5_6'] = (data.PAY_1 == 6)\n",
    "data['PAY_5_7'] = (data.PAY_1 == 7)\n",
    "data['PAY_5_8'] = (data.PAY_1 == 8)\n",
    "\n",
    "data['PAY_6_-1'] = (data.PAY_1 == -1)\n",
    "data['PAY_6_-2'] = (data.PAY_1 == -2)\n",
    "data['PAY_6_0'] = (data.PAY_1 == 0)\n",
    "data['PAY_6_1'] = (data.PAY_1 == 1)\n",
    "data['PAY_6_2'] = (data.PAY_1 == 2)\n",
    "data['PAY_6_3'] = (data.PAY_1 == 3)\n",
    "data['PAY_6_4'] = (data.PAY_1 == 4)\n",
    "data['PAY_6_5'] = (data.PAY_1 == 5)\n",
    "data['PAY_6_6'] = (data.PAY_1 == 6)\n",
    "data['PAY_6_7'] = (data.PAY_1 == 7)\n",
    "data['PAY_6_8'] = (data.PAY_1 == 8)\n",
    "data['PAY_6_8'] = (data.PAY_1 == 8)"
   ]
  },
  {
   "cell_type": "markdown",
   "metadata": {},
   "source": [
    "### Data Exploration and Data Visualization"
   ]
  },
  {
   "cell_type": "markdown",
   "metadata": {},
   "source": [
    "I am interested in discovering what the default rate looks like between the two genders."
   ]
  },
  {
   "cell_type": "code",
   "execution_count": 63,
   "metadata": {},
   "outputs": [
    {
     "data": {
      "image/png": "[encoded data removed]",
      "text/plain": [
       "<Figure size 1440x720 with 1 Axes>"
      ]
     },
     "metadata": {
      "needs_background": "light"
     },
     "output_type": "display_data"
    }
   ],
   "source": [
    "pd.crosstab(data.SEX_ID,data.def_pay,normalize=False).plot(kind=\"bar\",rot=0,figsize=(20,10))\n",
    "plt.title('Default Payment by Sex')\n",
    "plt.xlabel('Sex (1 = Male, 2 = Female)' )\n",
    "plt.legend([\"Non-Default\", \"Default\"])\n",
    "plt.ylabel('Frequency')\n",
    "plt.grid(True)\n",
    "plt.show()"
   ]
  },
  {
   "cell_type": "markdown",
   "metadata": {},
   "source": [
    "What does the relationship between marital status and default rate look like?"
   ]
  },
  {
   "cell_type": "code",
   "execution_count": 64,
   "metadata": {},
   "outputs": [
    {
     "data": {
      "image/png": "[encoded data removed]",
      "text/plain": [
       "<Figure size 1440x432 with 1 Axes>"
      ]
     },
     "metadata": {
      "needs_background": "light"
     },
     "output_type": "display_data"
    }
   ],
   "source": [
    "pd.crosstab(data.MARRIAGE,data.def_pay,normalize=False).plot(kind=\"bar\",rot=0,figsize=(20,6))\n",
    "plt.title('Default Rate accoding to Marital Status')\n",
    "plt.xlabel('Marriage(1=married, 2=single ,3=others)' )\n",
    "plt.legend([\"Non-Default\", \"Default\"])\n",
    "plt.ylabel('Frequency')\n",
    "plt.grid(True)\n",
    "plt.show()"
   ]
  },
  {
   "cell_type": "markdown",
   "metadata": {},
   "source": [
    "Can we predict default rates based on the level of Education a customer has obtained?"
   ]
  },
  {
   "cell_type": "code",
   "execution_count": 65,
   "metadata": {},
   "outputs": [
    {
     "data": {
      "image/png": "[encoded data removed]",
      "text/plain": [
       "<Figure size 1440x432 with 1 Axes>"
      ]
     },
     "metadata": {
      "needs_background": "light"
     },
     "output_type": "display_data"
    }
   ],
   "source": [
    "pd.crosstab(data.EDUCATION_ID,data.def_pay,normalize=False).plot(kind=\"bar\",rot=0,figsize=(20,6))\n",
    "plt.title('Default Payment by Education Level')\n",
    "plt.xlabel('Education(1=High School, 2=Others ,3=University ,4=Graduate School)' )\n",
    "plt.legend([\"Non-Default\", \"Default\"])\n",
    "plt.ylabel('Frequency')\n",
    "plt.grid(True)\n",
    "plt.show()"
   ]
  },
  {
   "cell_type": "markdown",
   "metadata": {},
   "source": [
    "Is Age a predictor of Default?"
   ]
  },
  {
   "cell_type": "code",
   "execution_count": 66,
   "metadata": {},
   "outputs": [
    {
     "data": {
      "image/png": "[encoded data removed]",
      "text/plain": [
       "<Figure size 1440x432 with 1 Axes>"
      ]
     },
     "metadata": {
      "needs_background": "light"
     },
     "output_type": "display_data"
    }
   ],
   "source": [
    "pd.crosstab(data.AgeBin,data.def_pay,normalize=False).plot(kind=\"bar\",rot=0,figsize=(20,6))\n",
    "plt.title('Default Payment by AgeBin')\n",
    "plt.xlabel('Age Bin\\n (for 1) Age = [20,30) \\n (for 2) Age = [30,40) \\n' +\n",
    "           ' (for 3) Age = [40,50) \\n (for 4) Age = [50,60) \\n (for 5) Age = [60,70) \\n(for 6) Age = [70,81)')\n",
    "plt.legend([\"Non-Default\", \"Default\"])\n",
    "plt.ylabel('Frequency')\n",
    "plt.grid(True)\n",
    "plt.show()"
   ]
  },
  {
   "cell_type": "markdown",
   "metadata": {},
   "source": [
    "Default Rates as a function of Gender/Marital Status"
   ]
  },
  {
   "cell_type": "code",
   "execution_count": 67,
   "metadata": {},
   "outputs": [
    {
     "data": {
      "image/png": "[encoded data removed]",
      "text/plain": [
       "<Figure size 1440x432 with 1 Axes>"
      ]
     },
     "metadata": {
      "needs_background": "light"
     },
     "output_type": "display_data"
    }
   ],
   "source": [
    "pd.crosstab(data.SEX_MAR,data.def_pay,normalize=False).plot(kind=\"bar\",rot=0,figsize=(20,6))\n",
    "plt.title('Default Payment by SEX_ID and MARRIAGE')\n",
    "plt.xlabel('SEX_ID & MARRIAGE\\n 1 = Married Man, 2 = Single Man, 3 = Divorced Man, 4 = Married Woman, 5 = Single Woman, 6 = Divorced Woman')\n",
    "plt.legend([\"Non-Default\", \"Default\"])\n",
    "plt.ylabel('Frequency')\n",
    "plt.grid(True)\n",
    "plt.show()"
   ]
  },
  {
   "cell_type": "markdown",
   "metadata": {},
   "source": [
    "Default Rates as a function of Gender/Age Status"
   ]
  },
  {
   "cell_type": "code",
   "execution_count": 68,
   "metadata": {},
   "outputs": [
    {
     "data": {
      "image/png": "[encoded data removed]",
      "text/plain": [
       "<Figure size 1440x432 with 1 Axes>"
      ]
     },
     "metadata": {
      "needs_background": "light"
     },
     "output_type": "display_data"
    }
   ],
   "source": [
    "pd.crosstab(data.SEX_AGE,data.def_pay,normalize=False).plot(kind=\"bar\",rot=0,figsize=(20,6))\n",
    "plt.title('Default Payment by SEX and AGE')\n",
    "plt.xlabel('SEX_ID & AgeBin\\n 1 = 20s Man, 2 = 30s Man, ..., 5 = 60s Man, 6 = 20s Woman, 7 = 30s Woman, ..., 10 = 60s Woman')\n",
    "plt.legend([\"Non-Default\", \"Default\"])\n",
    "plt.ylabel('Frequency')\n",
    "plt.grid(True)\n",
    "plt.show()\n"
   ]
  },
  {
   "cell_type": "markdown",
   "metadata": {},
   "source": [
    "## Predictive Modeling"
   ]
  },
  {
   "cell_type": "markdown",
   "metadata": {},
   "source": [
    "Will train 80% of the data and test 20%. "
   ]
  },
  {
   "cell_type": "code",
   "execution_count": 69,
   "metadata": {},
   "outputs": [],
   "source": [
    "features = ['LIMIT_BAL', 'EDUCATION','BILL_AMT1', 'BILL_AMT2',\n",
    "            'BILL_AMT3', 'BILL_AMT4', 'BILL_AMT5', 'BILL_AMT6', 'PAY_AMT1',\n",
    "            'PAY_AMT2', 'PAY_AMT3', 'PAY_AMT4', 'PAY_AMT5', 'PAY_AMT6', \n",
    "            'SEX_MAR', 'AgeBin', 'SEX_AGE', 'average_5', 'average_4',\n",
    "            'average_3', 'average_2', 'average_1', 'InvoiceLimit_5', 'InvoiceLimit_6',\n",
    "            'InvoiceLimit_4', 'InvoiceLimit_3', 'InvoiceLimit_2','InvoiceLimit_1',\n",
    "            'active_6','active_5','active_4','active_3','active_2','active_1','PAY_1_-1',\n",
    "            'PAY_1_-2', 'PAY_1_0', 'PAY_1_1', 'PAY_1_2', 'PAY_1_3', 'PAY_1_4', \n",
    "            'PAY_1_5', 'PAY_1_6', 'PAY_1_7', 'PAY_1_8', 'PAY_2_-1', 'PAY_2_-2', \n",
    "            'PAY_2_0', 'PAY_2_1', 'PAY_2_2', 'PAY_2_3', 'PAY_2_4', 'PAY_2_5', \n",
    "            'PAY_2_6', 'PAY_2_7', 'PAY_2_8', 'PAY_3_-1', 'PAY_3_-2', 'PAY_3_0', \n",
    "            'PAY_3_1', 'PAY_3_2', 'PAY_3_3', 'PAY_3_4', 'PAY_3_5', 'PAY_3_6', \n",
    "            'PAY_3_7', 'PAY_3_8', 'PAY_4_-1', 'PAY_4_-2', 'PAY_4_0', 'PAY_4_1', \n",
    "            'PAY_4_2', 'PAY_4_3', 'PAY_4_4', 'PAY_4_5', 'PAY_4_6', 'PAY_4_7', \n",
    "            'PAY_4_8', 'PAY_5_-1', 'PAY_5_-2', 'PAY_5_0', 'PAY_5_2', 'PAY_5_3', \n",
    "            'PAY_5_4', 'PAY_5_5', 'PAY_5_6', 'PAY_5_7', 'PAY_5_8', 'PAY_6_-1', \n",
    "            'PAY_6_-2', 'PAY_6_0', 'PAY_6_2', 'PAY_6_3', 'PAY_6_4', 'PAY_6_5', \n",
    "            'PAY_6_6', 'PAY_6_7', 'PAY_6_8']\n",
    "target = 'def_pay'\n",
    "y = data['def_pay'].copy()\n",
    "X = data[features].copy()\n",
    "X_train, X_test, y_train, y_test = train_test_split(X, y, test_size=0.20, random_state=42)\n",
    "data_train = X_train.join(y_train)"
   ]
  },
  {
   "cell_type": "code",
   "execution_count": 70,
   "metadata": {},
   "outputs": [],
   "source": [
    "# Selecting Optimal parameters\n",
    "from sklearn.model_selection import GridSearchCV\n",
    "from sklearn import datasets\n",
    "from sklearn.metrics import classification_report"
   ]
  },
  {
   "cell_type": "code",
   "execution_count": 71,
   "metadata": {},
   "outputs": [
    {
     "name": "stdout",
     "output_type": "stream",
     "text": [
      "Automatically created module for IPython interactive environment\n",
      "# Tuning hyper-parameters for precision\n",
      "\n",
      "Best parameters set found on development set:\n",
      "\n",
      "{'C': 10, 'gamma': 0.001, 'kernel': 'rbf'}\n",
      "\n",
      "Grid scores on development set:\n",
      "\n",
      "0.986 (+/-0.016) for {'C': 1, 'gamma': 0.001, 'kernel': 'rbf'}\n",
      "0.959 (+/-0.028) for {'C': 1, 'gamma': 0.0001, 'kernel': 'rbf'}\n",
      "0.988 (+/-0.017) for {'C': 10, 'gamma': 0.001, 'kernel': 'rbf'}\n",
      "0.982 (+/-0.026) for {'C': 10, 'gamma': 0.0001, 'kernel': 'rbf'}\n",
      "0.988 (+/-0.017) for {'C': 100, 'gamma': 0.001, 'kernel': 'rbf'}\n",
      "0.983 (+/-0.026) for {'C': 100, 'gamma': 0.0001, 'kernel': 'rbf'}\n",
      "0.988 (+/-0.017) for {'C': 1000, 'gamma': 0.001, 'kernel': 'rbf'}\n",
      "0.983 (+/-0.026) for {'C': 1000, 'gamma': 0.0001, 'kernel': 'rbf'}\n",
      "0.974 (+/-0.012) for {'C': 1, 'kernel': 'linear'}\n",
      "0.974 (+/-0.012) for {'C': 10, 'kernel': 'linear'}\n",
      "0.974 (+/-0.012) for {'C': 100, 'kernel': 'linear'}\n",
      "0.974 (+/-0.012) for {'C': 1000, 'kernel': 'linear'}\n",
      "\n",
      "Detailed classification report:\n",
      "\n",
      "The model is trained on the full development set.\n",
      "The scores are computed on the full evaluation set.\n",
      "\n",
      "              precision    recall  f1-score   support\n",
      "\n",
      "           0       1.00      1.00      1.00        89\n",
      "           1       0.97      1.00      0.98        90\n",
      "           2       0.99      0.98      0.98        92\n",
      "           3       1.00      0.99      0.99        93\n",
      "           4       1.00      1.00      1.00        76\n",
      "           5       0.99      0.98      0.99       108\n",
      "           6       0.99      1.00      0.99        89\n",
      "           7       0.99      1.00      0.99        78\n",
      "           8       1.00      0.98      0.99        92\n",
      "           9       0.99      0.99      0.99        92\n",
      "\n",
      "    accuracy                           0.99       899\n",
      "   macro avg       0.99      0.99      0.99       899\n",
      "weighted avg       0.99      0.99      0.99       899\n",
      "\n",
      "\n",
      "# Tuning hyper-parameters for recall\n",
      "\n",
      "Best parameters set found on development set:\n",
      "\n",
      "{'C': 10, 'gamma': 0.001, 'kernel': 'rbf'}\n",
      "\n",
      "Grid scores on development set:\n",
      "\n",
      "0.986 (+/-0.019) for {'C': 1, 'gamma': 0.001, 'kernel': 'rbf'}\n",
      "0.957 (+/-0.028) for {'C': 1, 'gamma': 0.0001, 'kernel': 'rbf'}\n",
      "0.987 (+/-0.019) for {'C': 10, 'gamma': 0.001, 'kernel': 'rbf'}\n",
      "0.981 (+/-0.028) for {'C': 10, 'gamma': 0.0001, 'kernel': 'rbf'}\n",
      "0.987 (+/-0.019) for {'C': 100, 'gamma': 0.001, 'kernel': 'rbf'}\n",
      "0.982 (+/-0.026) for {'C': 100, 'gamma': 0.0001, 'kernel': 'rbf'}\n",
      "0.987 (+/-0.019) for {'C': 1000, 'gamma': 0.001, 'kernel': 'rbf'}\n",
      "0.982 (+/-0.026) for {'C': 1000, 'gamma': 0.0001, 'kernel': 'rbf'}\n",
      "0.971 (+/-0.010) for {'C': 1, 'kernel': 'linear'}\n",
      "0.971 (+/-0.010) for {'C': 10, 'kernel': 'linear'}\n",
      "0.971 (+/-0.010) for {'C': 100, 'kernel': 'linear'}\n",
      "0.971 (+/-0.010) for {'C': 1000, 'kernel': 'linear'}\n",
      "\n",
      "Detailed classification report:\n",
      "\n",
      "The model is trained on the full development set.\n",
      "The scores are computed on the full evaluation set.\n",
      "\n",
      "              precision    recall  f1-score   support\n",
      "\n",
      "           0       1.00      1.00      1.00        89\n",
      "           1       0.97      1.00      0.98        90\n",
      "           2       0.99      0.98      0.98        92\n",
      "           3       1.00      0.99      0.99        93\n",
      "           4       1.00      1.00      1.00        76\n",
      "           5       0.99      0.98      0.99       108\n",
      "           6       0.99      1.00      0.99        89\n",
      "           7       0.99      1.00      0.99        78\n",
      "           8       1.00      0.98      0.99        92\n",
      "           9       0.99      0.99      0.99        92\n",
      "\n",
      "    accuracy                           0.99       899\n",
      "   macro avg       0.99      0.99      0.99       899\n",
      "weighted avg       0.99      0.99      0.99       899\n",
      "\n",
      "\n"
     ]
    }
   ],
   "source": [
    "print(__doc__)\n",
    "\n",
    "# Loading the Digits dataset\n",
    "digits = datasets.load_digits()\n",
    "\n",
    "# To apply an classifier on this data, we need to flatten the image, to\n",
    "# turn the data in a (samples, feature) matrix:\n",
    "n_samples = len(digits.images)\n",
    "X = digits.images.reshape((n_samples, -1))\n",
    "y = digits.target\n",
    "\n",
    "# Split the dataset in two equal parts\n",
    "X_train, X_test, y_train, y_test = train_test_split(\n",
    "    X, y, test_size=0.5, random_state=0)\n",
    "\n",
    "# Set the parameters by cross-validation\n",
    "tuned_parameters = [{'kernel': ['rbf'], 'gamma': [1e-3, 1e-4],\n",
    "                     'C': [1, 10, 100, 1000]},\n",
    "                    {'kernel': ['linear'], 'C': [1, 10, 100, 1000]}]\n",
    "\n",
    "scores = ['precision', 'recall']\n",
    "\n",
    "for score in scores:\n",
    "    print(\"# Tuning hyper-parameters for %s\" % score)\n",
    "    print()\n",
    "\n",
    "    clf = GridSearchCV(\n",
    "        SVC(), tuned_parameters, scoring='%s_macro' % score\n",
    "    )\n",
    "    clf.fit(X_train, y_train)\n",
    "    print(\"Best parameters set found on development set:\")\n",
    "    print()\n",
    "    print(clf.best_params_)\n",
    "    print()\n",
    "    print(\"Grid scores on development set:\")\n",
    "    print()\n",
    "    means = clf.cv_results_['mean_test_score']\n",
    "    stds = clf.cv_results_['std_test_score']\n",
    "    for mean, std, params in zip(means, stds, clf.cv_results_['params']):\n",
    "        print(\"%0.3f (+/-%0.03f) for %r\"\n",
    "              % (mean, std * 2, params))\n",
    "    print()\n",
    "\n",
    "    print(\"Detailed classification report:\")\n",
    "    print()\n",
    "    print(\"The model is trained on the full development set.\")\n",
    "    print(\"The scores are computed on the full evaluation set.\")\n",
    "    print()\n",
    "    y_true, y_pred = y_test, clf.predict(X_test)\n",
    "    print(classification_report(y_true, y_pred))\n",
    "    print()"
   ]
  },
  {
   "cell_type": "markdown",
   "metadata": {},
   "source": [
    "### Random Forest Classifier"
   ]
  },
  {
   "cell_type": "code",
   "execution_count": 72,
   "metadata": {},
   "outputs": [],
   "source": [
    "#Create a Gaussian Classifier\n",
    "clf=RandomForestClassifier(n_estimators=100)\n",
    "\n",
    "#Train the model using the training sets y_pred=clf.predict(X_test)\n",
    "clf.fit(X_train,y_train)\n",
    "\n",
    "y_pred=clf.predict(X_test)"
   ]
  },
  {
   "cell_type": "code",
   "execution_count": 73,
   "metadata": {},
   "outputs": [
    {
     "data": {
      "text/plain": [
       "RandomForestClassifier(n_jobs=1)"
      ]
     },
     "execution_count": 73,
     "metadata": {},
     "output_type": "execute_result"
    }
   ],
   "source": [
    "RandomForestClassifier(bootstrap=True, class_weight=None, criterion='gini',\n",
    "            max_depth=None, max_features='auto', max_leaf_nodes=None,\n",
    "            min_impurity_decrease=0.0, min_impurity_split=None,\n",
    "            min_samples_leaf=1, min_samples_split=2,\n",
    "            min_weight_fraction_leaf=0.0, n_estimators=100, n_jobs=1,\n",
    "            oob_score=False, random_state=None, verbose=0,\n",
    "            warm_start=False)"
   ]
  },
  {
   "cell_type": "code",
   "execution_count": 89,
   "metadata": {},
   "outputs": [],
   "source": [
    "#Create a Gaussian Classifier\n",
    "clf=RandomForestClassifier(n_estimators=100)\n",
    "\n",
    "#Train the model using the training sets y_pred=clf.predict(X_test)\n",
    "clf.fit(X_train,y_train)\n",
    "\n",
    "y_pred=clf.predict(X_test)"
   ]
  },
  {
   "cell_type": "code",
   "execution_count": 90,
   "metadata": {},
   "outputs": [
    {
     "name": "stdout",
     "output_type": "stream",
     "text": [
      "Accuracy: 0.9655172413793104\n"
     ]
    }
   ],
   "source": [
    "# Model Accuracy, how often is the classifier correct?\n",
    "print(\"Accuracy:\",metrics.accuracy_score(y_test, y_pred))"
   ]
  },
  {
   "cell_type": "code",
   "execution_count": 91,
   "metadata": {},
   "outputs": [
    {
     "name": "stdout",
     "output_type": "stream",
     "text": [
      "Confusion matrix, without normalization\n",
      "[[ 89   0   0   0   0   0   0   0   0   0]\n",
      " [  0  86   0   0   0   1   1   0   2   0]\n",
      " [  0   1  91   0   0   0   0   0   0   0]\n",
      " [  0   0   1  92   0   0   0   0   0   0]\n",
      " [  0   0   0   0  76   0   0   0   0   0]\n",
      " [  0   0   0   1   0 104   1   0   0   2]\n",
      " [  0   1   0   0   0   0  88   0   0   0]\n",
      " [  0   0   0   0   0   0   0  77   1   0]\n",
      " [  0   2   1   1   1   3   0   1  81   2]\n",
      " [  0   0   0   2   0   3   0   0   1  86]]\n",
      "Normalized confusion matrix\n",
      "[[1.   0.   0.   0.   0.   0.   0.   0.   0.   0.  ]\n",
      " [0.   0.96 0.   0.   0.   0.01 0.01 0.   0.02 0.  ]\n",
      " [0.   0.01 0.99 0.   0.   0.   0.   0.   0.   0.  ]\n",
      " [0.   0.   0.01 0.99 0.   0.   0.   0.   0.   0.  ]\n",
      " [0.   0.   0.   0.   1.   0.   0.   0.   0.   0.  ]\n",
      " [0.   0.   0.   0.01 0.   0.96 0.01 0.   0.   0.02]\n",
      " [0.   0.01 0.   0.   0.   0.   0.99 0.   0.   0.  ]\n",
      " [0.   0.   0.   0.   0.   0.   0.   0.99 0.01 0.  ]\n",
      " [0.   0.02 0.01 0.01 0.01 0.03 0.   0.01 0.88 0.02]\n",
      " [0.   0.   0.   0.02 0.   0.03 0.   0.   0.01 0.93]]\n"
     ]
    },
    {
     "data": {
      "image/png": "[encoded data removed]",
      "text/plain": [
       "<Figure size 432x288 with 2 Axes>"
      ]
     },
     "metadata": {
      "needs_background": "light"
     },
     "output_type": "display_data"
    },
    {
     "data": {
      "image/png": "[encoded data removed]",
      "text/plain": [
       "<Figure size 432x288 with 2 Axes>"
      ]
     },
     "metadata": {
      "needs_background": "light"
     },
     "output_type": "display_data"
    }
   ],
   "source": [
    "from sklearn.metrics import plot_confusion_matrix\n",
    "\n",
    "classifier = svm.SVC(kernel='linear', C=2).fit(X_train, y_train)\n",
    "\n",
    "np.set_printoptions(precision=2)\n",
    "\n",
    "# Plot non-normalized confusion matrix\n",
    "titles_options = [(\"Confusion matrix, without normalization\", None),\n",
    "                  (\"Normalized confusion matrix\", 'true')]\n",
    "for title, normalize in titles_options:\n",
    "    disp = plot_confusion_matrix(classifier, X_test, y_test,\n",
    "                                 display_labels=y_pred,\n",
    "                                 cmap=plt.cm.Blues,\n",
    "                                 normalize=normalize)\n",
    "    disp.ax_.set_title(title)\n",
    "\n",
    "    print(title)\n",
    "    print(disp.confusion_matrix)\n",
    "\n",
    "plt.show()"
   ]
  },
  {
   "cell_type": "markdown",
   "metadata": {},
   "source": [
    "## Correlation Matrices"
   ]
  },
  {
   "cell_type": "code",
   "execution_count": 92,
   "metadata": {},
   "outputs": [],
   "source": [
    "# listing different types of features for filtering\n",
    "pay = ['PAY_1', 'PAY_2',\n",
    "       'PAY_3', 'PAY_4', 'PAY_5', 'PAY_6']\n",
    "bill = ['BILL_AMT1', 'BILL_AMT2',\n",
    "       'BILL_AMT3', 'BILL_AMT4', 'BILL_AMT5', 'BILL_AMT6']\n",
    "paid = ['PAY_AMT1',\n",
    "       'PAY_AMT2', 'PAY_AMT3', 'PAY_AMT4', 'PAY_AMT5', 'PAY_AMT6']\n",
    "time_series = bill + paid + ['LIMIT_BAL']\n",
    "\n",
    "cat_features = ['SEX','EDUCATION','MARRIAGE','AGE']  +pay #+ ['LIMIT_BAL']\n",
    "num_features = sorted(list(set(data.columns)-set(cat_features)-set(['def_pay'])))"
   ]
  },
  {
   "cell_type": "code",
   "execution_count": 93,
   "metadata": {},
   "outputs": [
    {
     "data": {
      "text/plain": [
       "<matplotlib.axes._subplots.AxesSubplot at 0x1b8813f2040>"
      ]
     },
     "execution_count": 93,
     "metadata": {},
     "output_type": "execute_result"
    },
    {
     "data": {
      "image/png": "[encoded data removed]",
      "text/plain": [
       "<Figure size 1800x1080 with 2 Axes>"
      ]
     },
     "metadata": {
      "needs_background": "light"
     },
     "output_type": "display_data"
    }
   ],
   "source": [
    "# correlation matrix for numerical features\n",
    "num = bill+paid+['LIMIT_BAL']+['def_pay']\n",
    "plt.figure(figsize=(25,15))\n",
    "sns.heatmap(data[num].corr(method='pearson'),annot=True)"
   ]
  },
  {
   "cell_type": "code",
   "execution_count": 94,
   "metadata": {},
   "outputs": [
    {
     "data": {
      "text/plain": [
       "<matplotlib.axes._subplots.AxesSubplot at 0x1b8810cb130>"
      ]
     },
     "execution_count": 94,
     "metadata": {},
     "output_type": "execute_result"
    },
    {
     "data": {
      "image/png": "[encoded data removed]",
      "text/plain": [
       "<Figure size 1800x1080 with 2 Axes>"
      ]
     },
     "metadata": {
      "needs_background": "light"
     },
     "output_type": "display_data"
    }
   ],
   "source": [
    "# correlation matrix for numerical features\n",
    "cat = cat_features+['def_pay']\n",
    "plt.figure(figsize=(25,15))\n",
    "sns.heatmap(data[cat].corr(method='spearman'),annot=True)"
   ]
  },
  {
   "cell_type": "markdown",
   "metadata": {},
   "source": [
    "#### Decision Tree Classifier"
   ]
  },
  {
   "cell_type": "code",
   "execution_count": 95,
   "metadata": {},
   "outputs": [
    {
     "name": "stdout",
     "output_type": "stream",
     "text": [
      "Accuracy of Decision Tree: 0.5116796440489433\n"
     ]
    }
   ],
   "source": [
    "dtclassifier = DecisionTreeClassifier(class_weight=None, criterion='gini', max_depth=4,\n",
    "                       max_features=None, max_leaf_nodes=20,\n",
    "                       min_impurity_decrease=0.0, min_impurity_split=None,\n",
    "                       min_samples_leaf=1, min_samples_split=5,\n",
    "                       min_weight_fraction_leaf=0.0,\n",
    "                       random_state=42, splitter='best')\n",
    "dtclassifier.fit(X_train, y_train)\n",
    "dtprediction = dtclassifier.predict(X_test)\n",
    "print('Accuracy of Decision Tree:', accuracy_score(dtprediction,y_test))"
   ]
  },
  {
   "cell_type": "code",
   "execution_count": 107,
   "metadata": {},
   "outputs": [],
   "source": [
    "y=data['def_pay']\n",
    "X=data.drop(columns=['def_pay'])\n",
    "\n",
    "X_train, X_test, y_train, y_test = train_test_split(X, y, stratify=y)\n"
   ]
  },
  {
   "cell_type": "code",
   "execution_count": 109,
   "metadata": {},
   "outputs": [
    {
     "ename": "ValueError",
     "evalue": "could not convert string to float: 'female'",
     "output_type": "error",
     "traceback": [
      "\u001b[1;31m---------------------------------------------------------------------------\u001b[0m",
      "\u001b[1;31mValueError\u001b[0m                                Traceback (most recent call last)",
      "\u001b[1;32m<ipython-input-109-3a21eb2b9e53>\u001b[0m in \u001b[0;36m<module>\u001b[1;34m\u001b[0m\n\u001b[0;32m      3\u001b[0m \u001b[1;33m\u001b[0m\u001b[0m\n\u001b[0;32m      4\u001b[0m \u001b[1;31m#Train the model using the training sets y_pred=clf.predict(X_test)\u001b[0m\u001b[1;33m\u001b[0m\u001b[1;33m\u001b[0m\u001b[1;33m\u001b[0m\u001b[0m\n\u001b[1;32m----> 5\u001b[1;33m \u001b[0mclf\u001b[0m\u001b[1;33m.\u001b[0m\u001b[0mfit\u001b[0m\u001b[1;33m(\u001b[0m\u001b[0mX_train\u001b[0m\u001b[1;33m,\u001b[0m\u001b[0my_train\u001b[0m\u001b[1;33m)\u001b[0m\u001b[1;33m\u001b[0m\u001b[1;33m\u001b[0m\u001b[0m\n\u001b[0m\u001b[0;32m      6\u001b[0m \u001b[1;33m\u001b[0m\u001b[0m\n\u001b[0;32m      7\u001b[0m \u001b[0my_pred\u001b[0m\u001b[1;33m=\u001b[0m\u001b[0mclf\u001b[0m\u001b[1;33m.\u001b[0m\u001b[0mpredict\u001b[0m\u001b[1;33m(\u001b[0m\u001b[0mX_test\u001b[0m\u001b[1;33m)\u001b[0m\u001b[1;33m\u001b[0m\u001b[1;33m\u001b[0m\u001b[0m\n",
      "\u001b[1;32m~\\Anaconda3\\envs\\c2t1TEST\\lib\\site-packages\\sklearn\\ensemble\\_forest.py\u001b[0m in \u001b[0;36mfit\u001b[1;34m(self, X, y, sample_weight)\u001b[0m\n\u001b[0;32m    301\u001b[0m                 \u001b[1;34m\"sparse multilabel-indicator for y is not supported.\"\u001b[0m\u001b[1;33m\u001b[0m\u001b[1;33m\u001b[0m\u001b[0m\n\u001b[0;32m    302\u001b[0m             )\n\u001b[1;32m--> 303\u001b[1;33m         X, y = self._validate_data(X, y, multi_output=True,\n\u001b[0m\u001b[0;32m    304\u001b[0m                                    accept_sparse=\"csc\", dtype=DTYPE)\n\u001b[0;32m    305\u001b[0m         \u001b[1;32mif\u001b[0m \u001b[0msample_weight\u001b[0m \u001b[1;32mis\u001b[0m \u001b[1;32mnot\u001b[0m \u001b[1;32mNone\u001b[0m\u001b[1;33m:\u001b[0m\u001b[1;33m\u001b[0m\u001b[1;33m\u001b[0m\u001b[0m\n",
      "\u001b[1;32m~\\Anaconda3\\envs\\c2t1TEST\\lib\\site-packages\\sklearn\\base.py\u001b[0m in \u001b[0;36m_validate_data\u001b[1;34m(self, X, y, reset, validate_separately, **check_params)\u001b[0m\n\u001b[0;32m    430\u001b[0m                 \u001b[0my\u001b[0m \u001b[1;33m=\u001b[0m \u001b[0mcheck_array\u001b[0m\u001b[1;33m(\u001b[0m\u001b[0my\u001b[0m\u001b[1;33m,\u001b[0m \u001b[1;33m**\u001b[0m\u001b[0mcheck_y_params\u001b[0m\u001b[1;33m)\u001b[0m\u001b[1;33m\u001b[0m\u001b[1;33m\u001b[0m\u001b[0m\n\u001b[0;32m    431\u001b[0m             \u001b[1;32melse\u001b[0m\u001b[1;33m:\u001b[0m\u001b[1;33m\u001b[0m\u001b[1;33m\u001b[0m\u001b[0m\n\u001b[1;32m--> 432\u001b[1;33m                 \u001b[0mX\u001b[0m\u001b[1;33m,\u001b[0m \u001b[0my\u001b[0m \u001b[1;33m=\u001b[0m \u001b[0mcheck_X_y\u001b[0m\u001b[1;33m(\u001b[0m\u001b[0mX\u001b[0m\u001b[1;33m,\u001b[0m \u001b[0my\u001b[0m\u001b[1;33m,\u001b[0m \u001b[1;33m**\u001b[0m\u001b[0mcheck_params\u001b[0m\u001b[1;33m)\u001b[0m\u001b[1;33m\u001b[0m\u001b[1;33m\u001b[0m\u001b[0m\n\u001b[0m\u001b[0;32m    433\u001b[0m             \u001b[0mout\u001b[0m \u001b[1;33m=\u001b[0m \u001b[0mX\u001b[0m\u001b[1;33m,\u001b[0m \u001b[0my\u001b[0m\u001b[1;33m\u001b[0m\u001b[1;33m\u001b[0m\u001b[0m\n\u001b[0;32m    434\u001b[0m \u001b[1;33m\u001b[0m\u001b[0m\n",
      "\u001b[1;32m~\\Anaconda3\\envs\\c2t1TEST\\lib\\site-packages\\sklearn\\utils\\validation.py\u001b[0m in \u001b[0;36minner_f\u001b[1;34m(*args, **kwargs)\u001b[0m\n\u001b[0;32m     70\u001b[0m                           FutureWarning)\n\u001b[0;32m     71\u001b[0m         \u001b[0mkwargs\u001b[0m\u001b[1;33m.\u001b[0m\u001b[0mupdate\u001b[0m\u001b[1;33m(\u001b[0m\u001b[1;33m{\u001b[0m\u001b[0mk\u001b[0m\u001b[1;33m:\u001b[0m \u001b[0marg\u001b[0m \u001b[1;32mfor\u001b[0m \u001b[0mk\u001b[0m\u001b[1;33m,\u001b[0m \u001b[0marg\u001b[0m \u001b[1;32min\u001b[0m \u001b[0mzip\u001b[0m\u001b[1;33m(\u001b[0m\u001b[0msig\u001b[0m\u001b[1;33m.\u001b[0m\u001b[0mparameters\u001b[0m\u001b[1;33m,\u001b[0m \u001b[0margs\u001b[0m\u001b[1;33m)\u001b[0m\u001b[1;33m}\u001b[0m\u001b[1;33m)\u001b[0m\u001b[1;33m\u001b[0m\u001b[1;33m\u001b[0m\u001b[0m\n\u001b[1;32m---> 72\u001b[1;33m         \u001b[1;32mreturn\u001b[0m \u001b[0mf\u001b[0m\u001b[1;33m(\u001b[0m\u001b[1;33m**\u001b[0m\u001b[0mkwargs\u001b[0m\u001b[1;33m)\u001b[0m\u001b[1;33m\u001b[0m\u001b[1;33m\u001b[0m\u001b[0m\n\u001b[0m\u001b[0;32m     73\u001b[0m     \u001b[1;32mreturn\u001b[0m \u001b[0minner_f\u001b[0m\u001b[1;33m\u001b[0m\u001b[1;33m\u001b[0m\u001b[0m\n\u001b[0;32m     74\u001b[0m \u001b[1;33m\u001b[0m\u001b[0m\n",
      "\u001b[1;32m~\\Anaconda3\\envs\\c2t1TEST\\lib\\site-packages\\sklearn\\utils\\validation.py\u001b[0m in \u001b[0;36mcheck_X_y\u001b[1;34m(X, y, accept_sparse, accept_large_sparse, dtype, order, copy, force_all_finite, ensure_2d, allow_nd, multi_output, ensure_min_samples, ensure_min_features, y_numeric, estimator)\u001b[0m\n\u001b[0;32m    793\u001b[0m         \u001b[1;32mraise\u001b[0m \u001b[0mValueError\u001b[0m\u001b[1;33m(\u001b[0m\u001b[1;34m\"y cannot be None\"\u001b[0m\u001b[1;33m)\u001b[0m\u001b[1;33m\u001b[0m\u001b[1;33m\u001b[0m\u001b[0m\n\u001b[0;32m    794\u001b[0m \u001b[1;33m\u001b[0m\u001b[0m\n\u001b[1;32m--> 795\u001b[1;33m     X = check_array(X, accept_sparse=accept_sparse,\n\u001b[0m\u001b[0;32m    796\u001b[0m                     \u001b[0maccept_large_sparse\u001b[0m\u001b[1;33m=\u001b[0m\u001b[0maccept_large_sparse\u001b[0m\u001b[1;33m,\u001b[0m\u001b[1;33m\u001b[0m\u001b[1;33m\u001b[0m\u001b[0m\n\u001b[0;32m    797\u001b[0m                     \u001b[0mdtype\u001b[0m\u001b[1;33m=\u001b[0m\u001b[0mdtype\u001b[0m\u001b[1;33m,\u001b[0m \u001b[0morder\u001b[0m\u001b[1;33m=\u001b[0m\u001b[0morder\u001b[0m\u001b[1;33m,\u001b[0m \u001b[0mcopy\u001b[0m\u001b[1;33m=\u001b[0m\u001b[0mcopy\u001b[0m\u001b[1;33m,\u001b[0m\u001b[1;33m\u001b[0m\u001b[1;33m\u001b[0m\u001b[0m\n",
      "\u001b[1;32m~\\Anaconda3\\envs\\c2t1TEST\\lib\\site-packages\\sklearn\\utils\\validation.py\u001b[0m in \u001b[0;36minner_f\u001b[1;34m(*args, **kwargs)\u001b[0m\n\u001b[0;32m     70\u001b[0m                           FutureWarning)\n\u001b[0;32m     71\u001b[0m         \u001b[0mkwargs\u001b[0m\u001b[1;33m.\u001b[0m\u001b[0mupdate\u001b[0m\u001b[1;33m(\u001b[0m\u001b[1;33m{\u001b[0m\u001b[0mk\u001b[0m\u001b[1;33m:\u001b[0m \u001b[0marg\u001b[0m \u001b[1;32mfor\u001b[0m \u001b[0mk\u001b[0m\u001b[1;33m,\u001b[0m \u001b[0marg\u001b[0m \u001b[1;32min\u001b[0m \u001b[0mzip\u001b[0m\u001b[1;33m(\u001b[0m\u001b[0msig\u001b[0m\u001b[1;33m.\u001b[0m\u001b[0mparameters\u001b[0m\u001b[1;33m,\u001b[0m \u001b[0margs\u001b[0m\u001b[1;33m)\u001b[0m\u001b[1;33m}\u001b[0m\u001b[1;33m)\u001b[0m\u001b[1;33m\u001b[0m\u001b[1;33m\u001b[0m\u001b[0m\n\u001b[1;32m---> 72\u001b[1;33m         \u001b[1;32mreturn\u001b[0m \u001b[0mf\u001b[0m\u001b[1;33m(\u001b[0m\u001b[1;33m**\u001b[0m\u001b[0mkwargs\u001b[0m\u001b[1;33m)\u001b[0m\u001b[1;33m\u001b[0m\u001b[1;33m\u001b[0m\u001b[0m\n\u001b[0m\u001b[0;32m     73\u001b[0m     \u001b[1;32mreturn\u001b[0m \u001b[0minner_f\u001b[0m\u001b[1;33m\u001b[0m\u001b[1;33m\u001b[0m\u001b[0m\n\u001b[0;32m     74\u001b[0m \u001b[1;33m\u001b[0m\u001b[0m\n",
      "\u001b[1;32m~\\Anaconda3\\envs\\c2t1TEST\\lib\\site-packages\\sklearn\\utils\\validation.py\u001b[0m in \u001b[0;36mcheck_array\u001b[1;34m(array, accept_sparse, accept_large_sparse, dtype, order, copy, force_all_finite, ensure_2d, allow_nd, ensure_min_samples, ensure_min_features, estimator)\u001b[0m\n\u001b[0;32m    596\u001b[0m                     \u001b[0marray\u001b[0m \u001b[1;33m=\u001b[0m \u001b[0marray\u001b[0m\u001b[1;33m.\u001b[0m\u001b[0mastype\u001b[0m\u001b[1;33m(\u001b[0m\u001b[0mdtype\u001b[0m\u001b[1;33m,\u001b[0m \u001b[0mcasting\u001b[0m\u001b[1;33m=\u001b[0m\u001b[1;34m\"unsafe\"\u001b[0m\u001b[1;33m,\u001b[0m \u001b[0mcopy\u001b[0m\u001b[1;33m=\u001b[0m\u001b[1;32mFalse\u001b[0m\u001b[1;33m)\u001b[0m\u001b[1;33m\u001b[0m\u001b[1;33m\u001b[0m\u001b[0m\n\u001b[0;32m    597\u001b[0m                 \u001b[1;32melse\u001b[0m\u001b[1;33m:\u001b[0m\u001b[1;33m\u001b[0m\u001b[1;33m\u001b[0m\u001b[0m\n\u001b[1;32m--> 598\u001b[1;33m                     \u001b[0marray\u001b[0m \u001b[1;33m=\u001b[0m \u001b[0mnp\u001b[0m\u001b[1;33m.\u001b[0m\u001b[0masarray\u001b[0m\u001b[1;33m(\u001b[0m\u001b[0marray\u001b[0m\u001b[1;33m,\u001b[0m \u001b[0morder\u001b[0m\u001b[1;33m=\u001b[0m\u001b[0morder\u001b[0m\u001b[1;33m,\u001b[0m \u001b[0mdtype\u001b[0m\u001b[1;33m=\u001b[0m\u001b[0mdtype\u001b[0m\u001b[1;33m)\u001b[0m\u001b[1;33m\u001b[0m\u001b[1;33m\u001b[0m\u001b[0m\n\u001b[0m\u001b[0;32m    599\u001b[0m             \u001b[1;32mexcept\u001b[0m \u001b[0mComplexWarning\u001b[0m\u001b[1;33m:\u001b[0m\u001b[1;33m\u001b[0m\u001b[1;33m\u001b[0m\u001b[0m\n\u001b[0;32m    600\u001b[0m                 raise ValueError(\"Complex data not supported\\n\"\n",
      "\u001b[1;32m~\\Anaconda3\\envs\\c2t1TEST\\lib\\site-packages\\numpy\\core\\_asarray.py\u001b[0m in \u001b[0;36masarray\u001b[1;34m(a, dtype, order)\u001b[0m\n\u001b[0;32m     83\u001b[0m \u001b[1;33m\u001b[0m\u001b[0m\n\u001b[0;32m     84\u001b[0m     \"\"\"\n\u001b[1;32m---> 85\u001b[1;33m     \u001b[1;32mreturn\u001b[0m \u001b[0marray\u001b[0m\u001b[1;33m(\u001b[0m\u001b[0ma\u001b[0m\u001b[1;33m,\u001b[0m \u001b[0mdtype\u001b[0m\u001b[1;33m,\u001b[0m \u001b[0mcopy\u001b[0m\u001b[1;33m=\u001b[0m\u001b[1;32mFalse\u001b[0m\u001b[1;33m,\u001b[0m \u001b[0morder\u001b[0m\u001b[1;33m=\u001b[0m\u001b[0morder\u001b[0m\u001b[1;33m)\u001b[0m\u001b[1;33m\u001b[0m\u001b[1;33m\u001b[0m\u001b[0m\n\u001b[0m\u001b[0;32m     86\u001b[0m \u001b[1;33m\u001b[0m\u001b[0m\n\u001b[0;32m     87\u001b[0m \u001b[1;33m\u001b[0m\u001b[0m\n",
      "\u001b[1;31mValueError\u001b[0m: could not convert string to float: 'female'"
     ]
    }
   ],
   "source": [
    "#Create a Gaussian Classifier\n",
    "clf=RandomForestClassifier(n_estimators=100)\n",
    "\n",
    "#Train the model using the training sets y_pred=clf.predict(X_test)\n",
    "clf.fit(X_train,y_train)\n",
    "\n",
    "y_pred=clf.predict(X_test)\n",
    "\n",
    "print('Training set metrics:')\n",
    "print('Accuracy:', accuracy_score(y_train, y_pred(X_train)))\n",
    "print('Precision:', precision_score(y_train, y_predt(X_train)))\n",
    "print('Recall:', recall_score(y_train, y_pred(X_train)))\n",
    "\n",
    "print('Test set metrics:')\n",
    "print('Accuracy:', accuracy_score(y_test, y_pred(X_test)))\n",
    "print('Precision:', precision_score(y_test, y_pred(X_test)))\n",
    "print('Recall:', recall_score(y_test, y_pred(X_test)))"
   ]
  },
  {
   "cell_type": "code",
   "execution_count": null,
   "metadata": {},
   "outputs": [],
   "source": [
    "from sklearn.model_selection import cross_val_predict\n",
    "from sklearn import linear_model"
   ]
  }
 ],
 "metadata": {
  "kernelspec": {
   "display_name": "Python 3",
   "language": "python",
   "name": "python3"
  },
  "language_info": {
   "codemirror_mode": {
    "name": "ipython",
    "version": 3
   },
   "file_extension": ".py",
   "mimetype": "text/x-python",
   "name": "python",
   "nbconvert_exporter": "python",
   "pygments_lexer": "ipython3",
   "version": "3.8.5"
  }
 },
 "nbformat": 4,
 "nbformat_minor": 4
}
